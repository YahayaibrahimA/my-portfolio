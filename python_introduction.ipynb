{
 "cells": [
  {
   "cell_type": "code",
   "execution_count": 1,
   "id": "9937cf41-dcfe-455d-a46f-5c60b9b6c9e8",
   "metadata": {},
   "outputs": [
    {
     "name": "stdout",
     "output_type": "stream",
     "text": [
      "hello world\n"
     ]
    }
   ],
   "source": [
    "print(\"hello world\")\n"
   ]
  },
  {
   "cell_type": "code",
   "execution_count": null,
   "id": "0436c4be-f23b-4be0-b176-463fe5fa1c9a",
   "metadata": {},
   "outputs": [],
   "source": []
  },
  {
   "cell_type": "code",
   "execution_count": null,
   "id": "7f138172-7ad6-4411-92cf-2453dedc55d3",
   "metadata": {},
   "outputs": [],
   "source": []
  },
  {
   "cell_type": "code",
   "execution_count": null,
   "id": "4bcd6835-9617-4cca-8a99-5235bbfe12ba",
   "metadata": {},
   "outputs": [],
   "source": []
  },
  {
   "cell_type": "code",
   "execution_count": 2,
   "id": "1a2ad782-1f19-4038-a325-814ae040ab94",
   "metadata": {},
   "outputs": [
    {
     "name": "stdout",
     "output_type": "stream",
     "text": [
      "ibrahim yahaya\n"
     ]
    }
   ],
   "source": [
    "print(\"ibrahim yahaya\")"
   ]
  },
  {
   "cell_type": "code",
   "execution_count": 3,
   "id": "7341b76b-43aa-4f06-8a66-e71ab39aa810",
   "metadata": {},
   "outputs": [
    {
     "name": "stdout",
     "output_type": "stream",
     "text": [
      "2 + 2\n"
     ]
    }
   ],
   "source": [
    "print(\"2 + 2\")"
   ]
  },
  {
   "cell_type": "code",
   "execution_count": 4,
   "id": "0ad289a0-938e-4954-9871-3ca6686958d8",
   "metadata": {},
   "outputs": [
    {
     "name": "stdout",
     "output_type": "stream",
     "text": [
      "7\n"
     ]
    }
   ],
   "source": [
    "print(2+5)"
   ]
  },
  {
   "cell_type": "code",
   "execution_count": 5,
   "id": "2322e98f-7026-41c0-aeaa-e383324fa87a",
   "metadata": {},
   "outputs": [],
   "source": [
    "x = \"time\""
   ]
  },
  {
   "cell_type": "code",
   "execution_count": 6,
   "id": "7e28ef19-7e62-4c2c-8464-4de749ff4103",
   "metadata": {},
   "outputs": [
    {
     "data": {
      "text/plain": [
       "'time'"
      ]
     },
     "execution_count": 6,
     "metadata": {},
     "output_type": "execute_result"
    }
   ],
   "source": [
    "x"
   ]
  },
  {
   "cell_type": "markdown",
   "id": "7acde44b-c59d-49c6-8a43-db9306121d99",
   "metadata": {},
   "source": [
    "### TYPES OF Data\n",
    "* integes (e.g 2,3,4)\n",
    "* float (2,5,4,4)\n",
    "* booleans(true,false or 1 and 0)\n",
    "* string(e.g name, alphabets). NOTE: always add quotes(\"\") to declare astring.\n",
    "* list\n",
    "* tuple\n",
    "* dictionary \n",
    "    "
   ]
  },
  {
   "cell_type": "code",
   "execution_count": 7,
   "id": "d06ec93e-9ac7-47d3-b90a-c95d3a1ff096",
   "metadata": {},
   "outputs": [],
   "source": [
    "e = 12"
   ]
  },
  {
   "cell_type": "code",
   "execution_count": 8,
   "id": "5a041509-382a-4110-8622-58940eae3b12",
   "metadata": {},
   "outputs": [
    {
     "data": {
      "text/plain": [
       "int"
      ]
     },
     "execution_count": 8,
     "metadata": {},
     "output_type": "execute_result"
    }
   ],
   "source": [
    "type (e)"
   ]
  },
  {
   "cell_type": "code",
   "execution_count": 9,
   "id": "1b42ddce-a067-48d1-972d-52e762854fb5",
   "metadata": {},
   "outputs": [],
   "source": [
    "e = 12"
   ]
  },
  {
   "cell_type": "code",
   "execution_count": 10,
   "id": "ec47ece2-43fe-4b01-ae98-5979f44e361c",
   "metadata": {},
   "outputs": [
    {
     "data": {
      "text/plain": [
       "int"
      ]
     },
     "execution_count": 10,
     "metadata": {},
     "output_type": "execute_result"
    }
   ],
   "source": [
    "type (e)"
   ]
  },
  {
   "cell_type": "code",
   "execution_count": 11,
   "id": "e96f5ed2-c77b-4966-ba69-1931cb58f7a7",
   "metadata": {},
   "outputs": [],
   "source": [
    "f = 2.5"
   ]
  },
  {
   "cell_type": "code",
   "execution_count": 12,
   "id": "89621f79-001c-4e1a-a7ef-0aa405766d0f",
   "metadata": {},
   "outputs": [
    {
     "data": {
      "text/plain": [
       "float"
      ]
     },
     "execution_count": 12,
     "metadata": {},
     "output_type": "execute_result"
    }
   ],
   "source": [
    "type (f)"
   ]
  },
  {
   "cell_type": "code",
   "execution_count": 13,
   "id": "982378c5-e642-4b6e-af40-11a48aaf14f8",
   "metadata": {},
   "outputs": [],
   "source": [
    "c = True"
   ]
  },
  {
   "cell_type": "code",
   "execution_count": 14,
   "id": "e04d132b-6f42-4093-ab2a-4f5b458df9e8",
   "metadata": {},
   "outputs": [
    {
     "data": {
      "text/plain": [
       "bool"
      ]
     },
     "execution_count": 14,
     "metadata": {},
     "output_type": "execute_result"
    }
   ],
   "source": [
    "type(c)"
   ]
  },
  {
   "cell_type": "code",
   "execution_count": 15,
   "id": "914aea77-a877-4188-b7ae-5831d779a79b",
   "metadata": {},
   "outputs": [],
   "source": [
    "# creating a list\n",
    "my_list = [2.3, \"ibrahim\",4, True]"
   ]
  },
  {
   "cell_type": "code",
   "execution_count": 16,
   "id": "6ddcd1b9-347e-4bd2-a98c-f579d5ff7a85",
   "metadata": {},
   "outputs": [
    {
     "data": {
      "text/plain": [
       "[2.3, 'ibrahim', 4, True]"
      ]
     },
     "execution_count": 16,
     "metadata": {},
     "output_type": "execute_result"
    }
   ],
   "source": [
    "my_list"
   ]
  },
  {
   "cell_type": "code",
   "execution_count": 17,
   "id": "d928e8df-29a5-481c-946d-a27522026c52",
   "metadata": {},
   "outputs": [
    {
     "name": "stdout",
     "output_type": "stream",
     "text": [
      "[2.3, 'ibrahim', 4, True]\n"
     ]
    }
   ],
   "source": [
    "print(my_list)"
   ]
  },
  {
   "cell_type": "code",
   "execution_count": 18,
   "id": "d68db2bd-1dd6-44d3-9660-7ea495008f71",
   "metadata": {},
   "outputs": [],
   "source": [
    "student_record1 = (\"ibrahim\",15, 'black')"
   ]
  },
  {
   "cell_type": "code",
   "execution_count": 19,
   "id": "b0967d6f-89c5-4621-8438-2ba17ddb62c1",
   "metadata": {},
   "outputs": [
    {
     "data": {
      "text/plain": [
       "('ibrahim', 15, 'black')"
      ]
     },
     "execution_count": 19,
     "metadata": {},
     "output_type": "execute_result"
    }
   ],
   "source": [
    "student_record1"
   ]
  },
  {
   "cell_type": "code",
   "execution_count": 20,
   "id": "b051ca9f-d754-4569-a902-1d41a9a44a7c",
   "metadata": {},
   "outputs": [],
   "source": [
    "my_record1 = [\"nuhu\",18, 'blue']"
   ]
  },
  {
   "cell_type": "code",
   "execution_count": 21,
   "id": "ae466c5c-5f44-40a7-8a74-0520e3ed2a3b",
   "metadata": {},
   "outputs": [
    {
     "data": {
      "text/plain": [
       "['nuhu', 18, 'blue']"
      ]
     },
     "execution_count": 21,
     "metadata": {},
     "output_type": "execute_result"
    }
   ],
   "source": [
    "my_record1"
   ]
  },
  {
   "cell_type": "raw",
   "id": "12947044-e2ce-427a-81bc-78b4bc94ca08",
   "metadata": {},
   "source": [
    "print[my_record1]"
   ]
  },
  {
   "cell_type": "code",
   "execution_count": 22,
   "id": "41f01cc5-eabe-46e6-b76d-75a00c7423a5",
   "metadata": {},
   "outputs": [],
   "source": [
    "my_record1 = [\"nuhu\", 18, 'blue']\n"
   ]
  },
  {
   "cell_type": "code",
   "execution_count": 23,
   "id": "0254b4e1-3515-4ad7-9ecf-6c548c67ef2e",
   "metadata": {},
   "outputs": [
    {
     "data": {
      "text/plain": [
       "list"
      ]
     },
     "execution_count": 23,
     "metadata": {},
     "output_type": "execute_result"
    }
   ],
   "source": [
    "type(my_record1)\n"
   ]
  },
  {
   "cell_type": "markdown",
   "id": "6cf6401b-c7b9-45ce-9ecb-39aab3a8821f",
   "metadata": {},
   "source": [
    "###  DICTIONARY"
   ]
  },
  {
   "cell_type": "code",
   "execution_count": 24,
   "id": "19f6bfe7-4239-411e-8013-8d9b80716d9f",
   "metadata": {},
   "outputs": [],
   "source": [
    "first_dict ={\"age\": 16}"
   ]
  },
  {
   "cell_type": "code",
   "execution_count": 25,
   "id": "78626186-3617-4bc5-bccb-93257ddeee2b",
   "metadata": {},
   "outputs": [
    {
     "data": {
      "text/plain": [
       "16"
      ]
     },
     "execution_count": 25,
     "metadata": {},
     "output_type": "execute_result"
    }
   ],
   "source": [
    "first_dict[\"age\"]"
   ]
  },
  {
   "cell_type": "code",
   "execution_count": 26,
   "id": "4671d217-b67a-4518-ac67-8876014b3cd9",
   "metadata": {},
   "outputs": [],
   "source": [
    "md = {\"state\":\"nassrawa\",\n",
    "      \"country\":[\"nigerial\",\"ghana\"],\n",
    "      \"surname\":\"ibrahim\",\n",
    "      \"ff\":\"beans\",\n",
    "      \"fc\":\"bw\"}"
   ]
  },
  {
   "cell_type": "code",
   "execution_count": 27,
   "id": "05e8463d-3327-4e50-ac10-3f3d85606304",
   "metadata": {},
   "outputs": [
    {
     "data": {
      "text/plain": [
       "'beans'"
      ]
     },
     "execution_count": 27,
     "metadata": {},
     "output_type": "execute_result"
    }
   ],
   "source": [
    "md['ff']"
   ]
  },
  {
   "cell_type": "code",
   "execution_count": 28,
   "id": "31965e86-e138-4e1a-a034-8d00085b73d7",
   "metadata": {},
   "outputs": [
    {
     "data": {
      "text/plain": [
       "'bw'"
      ]
     },
     "execution_count": 28,
     "metadata": {},
     "output_type": "execute_result"
    }
   ],
   "source": [
    "md['fc']"
   ]
  },
  {
   "cell_type": "code",
   "execution_count": 29,
   "id": "f1d29fd4-82bc-49f5-b0b2-419270a7b816",
   "metadata": {},
   "outputs": [
    {
     "data": {
      "text/plain": [
       "'nassrawa'"
      ]
     },
     "execution_count": 29,
     "metadata": {},
     "output_type": "execute_result"
    }
   ],
   "source": [
    "md['state']"
   ]
  },
  {
   "cell_type": "code",
   "execution_count": 30,
   "id": "e7e170c0-e3cc-4bb1-8462-b974c4ce65ef",
   "metadata": {},
   "outputs": [
    {
     "data": {
      "text/plain": [
       "'ibrahim'"
      ]
     },
     "execution_count": 30,
     "metadata": {},
     "output_type": "execute_result"
    }
   ],
   "source": [
    "md['surname']"
   ]
  },
  {
   "cell_type": "code",
   "execution_count": 31,
   "id": "9df68bd2-83d5-46d4-ab6d-0c6247a2f4c3",
   "metadata": {},
   "outputs": [
    {
     "data": {
      "text/plain": [
       "dict"
      ]
     },
     "execution_count": 31,
     "metadata": {},
     "output_type": "execute_result"
    }
   ],
   "source": [
    "type(md)"
   ]
  },
  {
   "cell_type": "code",
   "execution_count": 32,
   "id": "a580be8d-96e4-4157-a2ba-906d3b541018",
   "metadata": {},
   "outputs": [],
   "source": [
    "d=5\n",
    "g=8"
   ]
  },
  {
   "cell_type": "code",
   "execution_count": 33,
   "id": "0e1564c3-ac3a-4424-8697-9d5138b89857",
   "metadata": {},
   "outputs": [
    {
     "data": {
      "text/plain": [
       "5"
      ]
     },
     "execution_count": 33,
     "metadata": {},
     "output_type": "execute_result"
    }
   ],
   "source": [
    "d"
   ]
  },
  {
   "cell_type": "code",
   "execution_count": 34,
   "id": "169e9eab-a15d-4917-a949-370a1d5be0ca",
   "metadata": {},
   "outputs": [
    {
     "data": {
      "text/plain": [
       "8"
      ]
     },
     "execution_count": 34,
     "metadata": {},
     "output_type": "execute_result"
    }
   ],
   "source": [
    "g"
   ]
  },
  {
   "cell_type": "code",
   "execution_count": 35,
   "id": "fbd5fa35-08a1-443f-9dfe-f14d70b3cc75",
   "metadata": {},
   "outputs": [
    {
     "data": {
      "text/plain": [
       "8"
      ]
     },
     "execution_count": 35,
     "metadata": {},
     "output_type": "execute_result"
    }
   ],
   "source": [
    "d\n",
    "g"
   ]
  },
  {
   "cell_type": "markdown",
   "id": "15d2b423-5f69-4249-ac98-2d4c6aa78e81",
   "metadata": {},
   "source": [
    "### casting\n",
    "* types conversion\n",
    "* str()\n",
    "* int()\n",
    "* float()\n",
    "* bool()\n",
    "  "
   ]
  },
  {
   "cell_type": "code",
   "execution_count": 36,
   "id": "2f602e24-b46a-4a09-bb17-1b15226aa934",
   "metadata": {},
   "outputs": [
    {
     "data": {
      "text/plain": [
       "int"
      ]
     },
     "execution_count": 36,
     "metadata": {},
     "output_type": "execute_result"
    }
   ],
   "source": [
    "type (d)"
   ]
  },
  {
   "cell_type": "code",
   "execution_count": 37,
   "id": "a8fae035-f071-4c82-8a42-1b57c4356a4a",
   "metadata": {},
   "outputs": [],
   "source": [
    "f = \"1\"\n",
    "i = 2"
   ]
  },
  {
   "cell_type": "code",
   "execution_count": 38,
   "id": "a0aabf22-7acd-44f6-b34b-1b20ec3be52e",
   "metadata": {},
   "outputs": [
    {
     "data": {
      "text/plain": [
       "1"
      ]
     },
     "execution_count": 38,
     "metadata": {},
     "output_type": "execute_result"
    }
   ],
   "source": [
    "int(f)"
   ]
  },
  {
   "cell_type": "code",
   "execution_count": 39,
   "id": "ad38b777-0cea-448b-ada8-199fccfe6100",
   "metadata": {},
   "outputs": [
    {
     "data": {
      "text/plain": [
       "'1'"
      ]
     },
     "execution_count": 39,
     "metadata": {},
     "output_type": "execute_result"
    }
   ],
   "source": [
    "f"
   ]
  },
  {
   "cell_type": "code",
   "execution_count": 40,
   "id": "4878bde9-2a68-4787-888b-f0cf362af681",
   "metadata": {},
   "outputs": [],
   "source": [
    "f = int(f)"
   ]
  },
  {
   "cell_type": "code",
   "execution_count": 41,
   "id": "a3736654-d5b7-4991-93e0-e7d4476f012c",
   "metadata": {},
   "outputs": [
    {
     "data": {
      "text/plain": [
       "1"
      ]
     },
     "execution_count": 41,
     "metadata": {},
     "output_type": "execute_result"
    }
   ],
   "source": [
    "f"
   ]
  },
  {
   "cell_type": "code",
   "execution_count": 42,
   "id": "ad933c6d-d4d8-4cd3-9e6e-440cb1adf5ed",
   "metadata": {},
   "outputs": [],
   "source": [
    "m = 3\n",
    "t = 8\n",
    "b = 4.4"
   ]
  },
  {
   "cell_type": "code",
   "execution_count": 43,
   "id": "6358d969-57a9-4bce-911b-3ae9ea664ba8",
   "metadata": {},
   "outputs": [
    {
     "data": {
      "text/plain": [
       "7.4"
      ]
     },
     "execution_count": 43,
     "metadata": {},
     "output_type": "execute_result"
    }
   ],
   "source": [
    "m + b"
   ]
  },
  {
   "cell_type": "code",
   "execution_count": 44,
   "id": "b716ec30-1df1-45eb-a167-db7bbad1540d",
   "metadata": {},
   "outputs": [],
   "source": [
    "y = 20"
   ]
  },
  {
   "cell_type": "code",
   "execution_count": 45,
   "id": "d13063ec-7210-46fd-af08-de6df606ea13",
   "metadata": {},
   "outputs": [],
   "source": [
    "y=str(20)"
   ]
  },
  {
   "cell_type": "code",
   "execution_count": 46,
   "id": "f8f4de0d-e5a2-4eb9-a13c-b97de92ee47a",
   "metadata": {},
   "outputs": [
    {
     "data": {
      "text/plain": [
       "'20'"
      ]
     },
     "execution_count": 46,
     "metadata": {},
     "output_type": "execute_result"
    }
   ],
   "source": [
    "y"
   ]
  },
  {
   "cell_type": "code",
   "execution_count": 47,
   "id": "b0f6a275-176c-4163-b9c2-0622ebda4fdc",
   "metadata": {},
   "outputs": [
    {
     "data": {
      "text/plain": [
       "int"
      ]
     },
     "execution_count": 47,
     "metadata": {},
     "output_type": "execute_result"
    }
   ],
   "source": [
    "type(t)"
   ]
  },
  {
   "cell_type": "code",
   "execution_count": 48,
   "id": "9e20e7c0-68bf-480b-8dc8-955baa75a798",
   "metadata": {},
   "outputs": [],
   "source": [
    "t = 5"
   ]
  },
  {
   "cell_type": "code",
   "execution_count": 49,
   "id": "a67200e8-c2e8-407b-918f-15115261fc8e",
   "metadata": {},
   "outputs": [
    {
     "data": {
      "text/plain": [
       "True"
      ]
     },
     "execution_count": 49,
     "metadata": {},
     "output_type": "execute_result"
    }
   ],
   "source": [
    "bool(t)"
   ]
  },
  {
   "cell_type": "code",
   "execution_count": 50,
   "id": "93cdfa5f-37f1-4404-9a40-6a0d9ad31106",
   "metadata": {},
   "outputs": [
    {
     "name": "stdout",
     "output_type": "stream",
     "text": [
      "False\n"
     ]
    }
   ],
   "source": [
    "n = 0\n",
    "k = bool(n)\n",
    "print(k)\n"
   ]
  },
  {
   "cell_type": "code",
   "execution_count": 51,
   "id": "10eecc46-c77f-4dd1-a3a3-45ec51db29a6",
   "metadata": {},
   "outputs": [],
   "source": [
    "u = int(k)\n"
   ]
  },
  {
   "cell_type": "code",
   "execution_count": 52,
   "id": "4052d839-6a19-4a0b-9f7c-4c9dc17d5852",
   "metadata": {},
   "outputs": [
    {
     "data": {
      "text/plain": [
       "0"
      ]
     },
     "execution_count": 52,
     "metadata": {},
     "output_type": "execute_result"
    }
   ],
   "source": [
    "u"
   ]
  },
  {
   "cell_type": "markdown",
   "id": "6734b815-c166-45c7-b93d-aa47d5e9afa4",
   "metadata": {},
   "source": [
    "##### Aritimetic operetions\n",
    "* Addition\n",
    "* Subtraction\n",
    "* Muitiplication\n",
    "* Division\n",
    "* Exponentiation\n",
    "* Modulus"
   ]
  },
  {
   "cell_type": "code",
   "execution_count": 53,
   "id": "faa026e4-cb35-4bae-8e51-62e53a6ff33a",
   "metadata": {},
   "outputs": [],
   "source": [
    "x = 5\n",
    "y = 7\n"
   ]
  },
  {
   "cell_type": "code",
   "execution_count": 54,
   "id": "df1ec812-284c-43d1-867e-62d085eac7af",
   "metadata": {},
   "outputs": [
    {
     "data": {
      "text/plain": [
       "12"
      ]
     },
     "execution_count": 54,
     "metadata": {},
     "output_type": "execute_result"
    }
   ],
   "source": [
    "# Addition\n",
    "x + y "
   ]
  },
  {
   "cell_type": "code",
   "execution_count": 55,
   "id": "8840626c-3e8f-4c86-b095-c29a8b8a2fb4",
   "metadata": {},
   "outputs": [
    {
     "data": {
      "text/plain": [
       "10"
      ]
     },
     "execution_count": 55,
     "metadata": {},
     "output_type": "execute_result"
    }
   ],
   "source": [
    "x + y -2"
   ]
  },
  {
   "cell_type": "code",
   "execution_count": 56,
   "id": "a19b5fbb-b33e-41f6-85f9-bbdc94437528",
   "metadata": {},
   "outputs": [
    {
     "data": {
      "text/plain": [
       "2"
      ]
     },
     "execution_count": 56,
     "metadata": {},
     "output_type": "execute_result"
    }
   ],
   "source": [
    "# subtraction\n",
    "y - x"
   ]
  },
  {
   "cell_type": "code",
   "execution_count": 57,
   "id": "ada35bee-e5b0-4622-ad67-89e8d730a608",
   "metadata": {},
   "outputs": [
    {
     "data": {
      "text/plain": [
       "-2"
      ]
     },
     "execution_count": 57,
     "metadata": {},
     "output_type": "execute_result"
    }
   ],
   "source": [
    "x - y"
   ]
  },
  {
   "cell_type": "code",
   "execution_count": 58,
   "id": "6e7e1dcc-f6cc-4ec3-819a-8c83fc5841b4",
   "metadata": {},
   "outputs": [
    {
     "data": {
      "text/plain": [
       "0"
      ]
     },
     "execution_count": 58,
     "metadata": {},
     "output_type": "execute_result"
    }
   ],
   "source": [
    "x - y + 2\n"
   ]
  },
  {
   "cell_type": "code",
   "execution_count": 59,
   "id": "1a8636b4-25ed-4230-bba9-238357d1929d",
   "metadata": {},
   "outputs": [],
   "source": [
    "c = 45\n",
    "d = 5"
   ]
  },
  {
   "cell_type": "code",
   "execution_count": 60,
   "id": "ec63bfa3-8354-463c-a13e-471b26179f11",
   "metadata": {},
   "outputs": [
    {
     "data": {
      "text/plain": [
       "9.0"
      ]
     },
     "execution_count": 60,
     "metadata": {},
     "output_type": "execute_result"
    }
   ],
   "source": [
    "#division\n",
    "c/d"
   ]
  },
  {
   "cell_type": "code",
   "execution_count": 61,
   "id": "460d676d-8888-4d03-ad16-3e5574dbc52a",
   "metadata": {},
   "outputs": [
    {
     "data": {
      "text/plain": [
       "5.0"
      ]
     },
     "execution_count": 61,
     "metadata": {},
     "output_type": "execute_result"
    }
   ],
   "source": [
    "20 / 4"
   ]
  },
  {
   "cell_type": "raw",
   "id": "69598a95-e995-4dda-bf79-a7fc3796bdbe",
   "metadata": {},
   "source": [
    "deatils['ff']"
   ]
  },
  {
   "cell_type": "raw",
   "id": "a9177228-cbe6-4d07-87b8-ab2c9089ede2",
   "metadata": {},
   "source": [
    "deatils['surname']\n"
   ]
  },
  {
   "cell_type": "raw",
   "id": "df8e55ee-582c-4455-ad40-4a88e01197a8",
   "metadata": {},
   "source": [
    "deatils['fc']"
   ]
  },
  {
   "cell_type": "raw",
   "id": "b79b6a1c-2ba0-4f10-97ce-bec800f645a5",
   "metadata": {},
   "source": [
    "deatils['skin']"
   ]
  },
  {
   "cell_type": "code",
   "execution_count": 62,
   "id": "8c40c26e-c4a6-4f09-bfc0-9cca1a072941",
   "metadata": {},
   "outputs": [],
   "source": [
    "my_dealtial = ['ibrahim' ,' yam',' black', 'male', 'yellow']\n"
   ]
  },
  {
   "cell_type": "code",
   "execution_count": 63,
   "id": "ed37b6e6-6ce7-4fd8-844f-728ab0f06a59",
   "metadata": {},
   "outputs": [
    {
     "data": {
      "text/plain": [
       "list"
      ]
     },
     "execution_count": 63,
     "metadata": {},
     "output_type": "execute_result"
    }
   ],
   "source": [
    "type(my_dealtial)"
   ]
  },
  {
   "cell_type": "code",
   "execution_count": null,
   "id": "68686b39-58b8-47e3-886e-284132af4547",
   "metadata": {},
   "outputs": [],
   "source": []
  },
  {
   "cell_type": "code",
   "execution_count": 64,
   "id": "b725ad53-5f33-4c05-a58a-0d6d106af188",
   "metadata": {},
   "outputs": [],
   "source": [
    "my_dealtial = ('ibrahim' ,' yam',' black', 'male', 'yellow')\n"
   ]
  },
  {
   "cell_type": "code",
   "execution_count": 65,
   "id": "1c9ceb1b-2e50-45e8-895e-dae7d2475c24",
   "metadata": {},
   "outputs": [],
   "source": [
    "#modulus\n",
    "# modulus is represented by %\n",
    "a = 10\n",
    "b = 3"
   ]
  },
  {
   "cell_type": "raw",
   "id": "1bd01501-c707-49b4-a9ce-ff9b1d32ab13",
   "metadata": {},
   "source": [
    "print(a % 3)\n",
    "a % b"
   ]
  },
  {
   "cell_type": "markdown",
   "id": "2f16baf3-2847-4cff-9941-d8019c95a5a9",
   "metadata": {},
   "source": [
    "## Assignment operators\n"
   ]
  },
  {
   "cell_type": "code",
   "execution_count": 66,
   "id": "df8c11f5-b62a-4c39-9ec7-29c3209560e3",
   "metadata": {},
   "outputs": [],
   "source": [
    "x = 5\n"
   ]
  },
  {
   "cell_type": "code",
   "execution_count": 67,
   "id": "80e10273-276c-44ab-b8c4-5975c80b6ac1",
   "metadata": {},
   "outputs": [],
   "source": [
    "x = x +5"
   ]
  },
  {
   "cell_type": "code",
   "execution_count": 68,
   "id": "852621b8-03bb-423b-9ddd-01c3c911e4f8",
   "metadata": {},
   "outputs": [
    {
     "data": {
      "text/plain": [
       "10"
      ]
     },
     "execution_count": 68,
     "metadata": {},
     "output_type": "execute_result"
    }
   ],
   "source": [
    "x"
   ]
  },
  {
   "cell_type": "code",
   "execution_count": 69,
   "id": "c36fcd99-36e8-4a02-b398-a4b7cb93c190",
   "metadata": {},
   "outputs": [],
   "source": [
    "e = 2"
   ]
  },
  {
   "cell_type": "code",
   "execution_count": 70,
   "id": "bc080158-219b-4a0c-9552-59f0260a0f14",
   "metadata": {},
   "outputs": [],
   "source": [
    "e += 2"
   ]
  },
  {
   "cell_type": "markdown",
   "id": "30686b8c-3306-49d9-8467-c043a2716906",
   "metadata": {},
   "source": [
    " e\n",
    " 4"
   ]
  },
  {
   "cell_type": "code",
   "execution_count": 71,
   "id": "f90e03be-1995-4597-a59e-db0e96f42591",
   "metadata": {},
   "outputs": [],
   "source": [
    "v = 5\n"
   ]
  },
  {
   "cell_type": "code",
   "execution_count": 72,
   "id": "a00caa03-97d7-4ead-903c-55fae8d4ec33",
   "metadata": {},
   "outputs": [],
   "source": [
    "v += 10"
   ]
  },
  {
   "cell_type": "code",
   "execution_count": 73,
   "id": "646c75bb-d8c4-44dd-b294-c29ef97ec11c",
   "metadata": {},
   "outputs": [],
   "source": [
    "james = 12\n",
    "james*= 12\n",
    "\n",
    "\n"
   ]
  },
  {
   "cell_type": "code",
   "execution_count": 74,
   "id": "8f35091d-3772-4185-aad8-f16fb9857e25",
   "metadata": {},
   "outputs": [
    {
     "data": {
      "text/plain": [
       "144"
      ]
     },
     "execution_count": 74,
     "metadata": {},
     "output_type": "execute_result"
    }
   ],
   "source": [
    "james\n"
   ]
  },
  {
   "cell_type": "markdown",
   "id": "ee0bc54f-d1a7-46b7-aa40-1f47611ed1c2",
   "metadata": {},
   "source": [
    "## collecting inputs from user"
   ]
  },
  {
   "cell_type": "code",
   "execution_count": 75,
   "id": "8af81bfb-d1a7-41be-ad73-4684b37f40cc",
   "metadata": {},
   "outputs": [
    {
     "name": "stdin",
     "output_type": "stream",
     "text": [
      "enter your name jsme\n"
     ]
    },
    {
     "data": {
      "text/plain": [
       "'jsme'"
      ]
     },
     "execution_count": 75,
     "metadata": {},
     "output_type": "execute_result"
    }
   ],
   "source": [
    "input(\"enter your name\") "
   ]
  },
  {
   "cell_type": "code",
   "execution_count": 76,
   "id": "7af2fd37-c10c-4427-b52e-38fa9208bf58",
   "metadata": {},
   "outputs": [
    {
     "name": "stdin",
     "output_type": "stream",
     "text": [
      "firstname bb\n",
      "lastname gg\n"
     ]
    }
   ],
   "source": [
    "firstname = input(\"firstname\")\n",
    "lastname = input(\"lastname\")\n",
    "\n"
   ]
  },
  {
   "cell_type": "code",
   "execution_count": 77,
   "id": "5bc2ab06-ccac-4572-99a7-1b59e30cb6bc",
   "metadata": {},
   "outputs": [
    {
     "data": {
      "text/plain": [
       "'bb'"
      ]
     },
     "execution_count": 77,
     "metadata": {},
     "output_type": "execute_result"
    }
   ],
   "source": [
    "firstname\n"
   ]
  },
  {
   "cell_type": "code",
   "execution_count": 78,
   "id": "2cc3ea39-28b1-442a-aba3-a15846e35c10",
   "metadata": {},
   "outputs": [
    {
     "data": {
      "text/plain": [
       "'gg'"
      ]
     },
     "execution_count": 78,
     "metadata": {},
     "output_type": "execute_result"
    }
   ],
   "source": [
    "lastname"
   ]
  },
  {
   "cell_type": "code",
   "execution_count": 79,
   "id": "3bc86749-b5ab-442c-8521-71a395bc57bc",
   "metadata": {},
   "outputs": [
    {
     "data": {
      "text/plain": [
       "str"
      ]
     },
     "execution_count": 79,
     "metadata": {},
     "output_type": "execute_result"
    }
   ],
   "source": [
    "type(firstname)\n",
    "\n"
   ]
  },
  {
   "cell_type": "code",
   "execution_count": 80,
   "id": "57ee5f97-39aa-4513-8fe6-ae4f4e5478a0",
   "metadata": {},
   "outputs": [
    {
     "name": "stdin",
     "output_type": "stream",
     "text": [
      "what's your account balance 0\n",
      "how much do you want to deposite 10\n"
     ]
    }
   ],
   "source": [
    "balance = input(\"what's your account balance\")\n",
    "new_deposite = input(\"how much do you want to deposite\")"
   ]
  },
  {
   "cell_type": "code",
   "execution_count": 81,
   "id": "19cc60cb-bed9-4df1-835f-688457596c86",
   "metadata": {},
   "outputs": [
    {
     "data": {
      "text/plain": [
       "'0'"
      ]
     },
     "execution_count": 81,
     "metadata": {},
     "output_type": "execute_result"
    }
   ],
   "source": [
    "balance"
   ]
  },
  {
   "cell_type": "code",
   "execution_count": 82,
   "id": "03f29cbd-ebaf-4659-a31d-8bbc484ee947",
   "metadata": {},
   "outputs": [
    {
     "data": {
      "text/plain": [
       "'010'"
      ]
     },
     "execution_count": 82,
     "metadata": {},
     "output_type": "execute_result"
    }
   ],
   "source": [
    "balance + new_deposite"
   ]
  },
  {
   "cell_type": "code",
   "execution_count": 83,
   "id": "d39469d6-d091-4518-ad7c-c59cdef89166",
   "metadata": {},
   "outputs": [
    {
     "data": {
      "text/plain": [
       "10"
      ]
     },
     "execution_count": 83,
     "metadata": {},
     "output_type": "execute_result"
    }
   ],
   "source": [
    "new_balance = int(balance) + int(new_deposite)\n",
    "new_balance"
   ]
  },
  {
   "cell_type": "code",
   "execution_count": 84,
   "id": "05b3acd7-7e0a-4a22-9eee-d0e466a704c8",
   "metadata": {},
   "outputs": [
    {
     "name": "stdin",
     "output_type": "stream",
     "text": [
      "what's your account balance 11\n",
      "how much do you want to deposite 11\n"
     ]
    },
    {
     "data": {
      "text/plain": [
       "11"
      ]
     },
     "execution_count": 84,
     "metadata": {},
     "output_type": "execute_result"
    }
   ],
   "source": [
    "balance = int(input(\"what's your account balance\"))\n",
    "new_deposit = int(input(\"how much do you want to deposite\"))\n",
    "\n",
    "new_deposit                 "
   ]
  },
  {
   "cell_type": "markdown",
   "id": "70369e95-6a5a-4457-bc64-20d0fd4c0533",
   "metadata": {},
   "source": [
    "## list"
   ]
  },
  {
   "cell_type": "code",
   "execution_count": 85,
   "id": "5abc3ea6-e03f-488d-b6c4-921735d8907f",
   "metadata": {},
   "outputs": [],
   "source": [
    "mylist = [12, 5, 7, \"red\",10,5]"
   ]
  },
  {
   "cell_type": "code",
   "execution_count": 86,
   "id": "5ff5f3aa-30ab-4666-b44c-3cc150d074fc",
   "metadata": {},
   "outputs": [
    {
     "data": {
      "text/plain": [
       "[12, 5, 7, 'red', 10, 5]"
      ]
     },
     "execution_count": 86,
     "metadata": {},
     "output_type": "execute_result"
    }
   ],
   "source": [
    "mylist"
   ]
  },
  {
   "cell_type": "markdown",
   "id": "371ca469-1d5d-42a1-aef3-cc0bbd57b7d0",
   "metadata": {},
   "source": [
    "# list"
   ]
  },
  {
   "cell_type": "code",
   "execution_count": 87,
   "id": "78288c4f-d6c6-47ba-9851-14d149798b8d",
   "metadata": {},
   "outputs": [],
   "source": [
    "fruits = [' apple', 'banana', 'cherry', 'date', 'elderberry']"
   ]
  },
  {
   "cell_type": "code",
   "execution_count": 88,
   "id": "29120f4a-0108-4f2a-be7f-353f0223fb77",
   "metadata": {},
   "outputs": [
    {
     "data": {
      "text/plain": [
       "' apple'"
      ]
     },
     "execution_count": 88,
     "metadata": {},
     "output_type": "execute_result"
    }
   ],
   "source": [
    "fruits[0]"
   ]
  },
  {
   "cell_type": "code",
   "execution_count": 89,
   "id": "64c5504e-2628-4c4b-9045-d154ee99e784",
   "metadata": {},
   "outputs": [
    {
     "data": {
      "text/plain": [
       "'elderberry'"
      ]
     },
     "execution_count": 89,
     "metadata": {},
     "output_type": "execute_result"
    }
   ],
   "source": [
    "fruits[-1]"
   ]
  },
  {
   "cell_type": "code",
   "execution_count": 90,
   "id": "6308553f-e462-40e6-b301-a8bd8c4a1769",
   "metadata": {},
   "outputs": [
    {
     "data": {
      "text/plain": [
       "['banana', 'cherry', 'date']"
      ]
     },
     "execution_count": 90,
     "metadata": {},
     "output_type": "execute_result"
    }
   ],
   "source": [
    "fruits[1:4]"
   ]
  },
  {
   "cell_type": "markdown",
   "id": "2b2e96e5-fe6e-4d26-a594-b3966493f8e1",
   "metadata": {},
   "source": [
    "## list matrix"
   ]
  },
  {
   "cell_type": "code",
   "execution_count": 91,
   "id": "1c630386-53b7-4cc3-afe3-c47557b259e6",
   "metadata": {},
   "outputs": [],
   "source": [
    "list_matrix = [[1,2,3],[4,5,6],[7,8,9]]"
   ]
  },
  {
   "cell_type": "code",
   "execution_count": 92,
   "id": "4fc911c5-74c3-455d-b772-6b1637014161",
   "metadata": {},
   "outputs": [
    {
     "data": {
      "text/plain": [
       "[4, 5, 6]"
      ]
     },
     "execution_count": 92,
     "metadata": {},
     "output_type": "execute_result"
    }
   ],
   "source": [
    "list_matrix[1]"
   ]
  },
  {
   "cell_type": "code",
   "execution_count": 95,
   "id": "23ea6b3c-03d1-40f0-9cb5-9eaff64e489b",
   "metadata": {},
   "outputs": [],
   "source": [
    "value = list_matrix[1][1]"
   ]
  },
  {
   "cell_type": "code",
   "execution_count": 96,
   "id": "7c989a30-a778-462e-a2e4-7fdfa37cd2e2",
   "metadata": {},
   "outputs": [
    {
     "data": {
      "text/plain": [
       "5"
      ]
     },
     "execution_count": 96,
     "metadata": {},
     "output_type": "execute_result"
    }
   ],
   "source": [
    "value"
   ]
  },
  {
   "cell_type": "code",
   "execution_count": 97,
   "id": "9f6f3542-4664-4be0-8a07-3a03aa2448fc",
   "metadata": {},
   "outputs": [],
   "source": [
    "mylist =[1,2,4,5,7]"
   ]
  },
  {
   "cell_type": "code",
   "execution_count": 98,
   "id": "cdfcd3ea-e697-4ddc-b5a2-df37b3740420",
   "metadata": {},
   "outputs": [
    {
     "data": {
      "text/plain": [
       "5"
      ]
     },
     "execution_count": 98,
     "metadata": {},
     "output_type": "execute_result"
    }
   ],
   "source": [
    "# check number of items in a list\n",
    "len(mylist)"
   ]
  },
  {
   "cell_type": "markdown",
   "id": "8c4cd5f5-71d2-4dd7-a70b-eb0a080ab310",
   "metadata": {},
   "source": [
    "### changing value/items from a list "
   ]
  },
  {
   "cell_type": "code",
   "execution_count": 99,
   "id": "d031c8a4-b82d-4856-bb13-e9573e1ada98",
   "metadata": {},
   "outputs": [],
   "source": [
    "# Replace 5 from the list with 10\n",
    "mylist[3] = 10"
   ]
  },
  {
   "cell_type": "code",
   "execution_count": 100,
   "id": "c7666eeb-fd58-4a57-bf4d-edb3e74b102c",
   "metadata": {},
   "outputs": [
    {
     "data": {
      "text/plain": [
       "[1, 2, 4, 10, 7]"
      ]
     },
     "execution_count": 100,
     "metadata": {},
     "output_type": "execute_result"
    }
   ],
   "source": [
    "mylist"
   ]
  },
  {
   "cell_type": "code",
   "execution_count": 101,
   "id": "e38ab4da-f80a-4f7b-bef0-066361a69746",
   "metadata": {},
   "outputs": [
    {
     "name": "stdout",
     "output_type": "stream",
     "text": [
      "['apple', 'blackcurrent', 'watermelo', 'kiwi', 'mango']\n"
     ]
    }
   ],
   "source": [
    "# Replace banana and cherry with blackcurrent and watermelon\n",
    "thislist = [\"apple\", \"banana\", \"orange\", \"kiwi\", \"mango\"]\n",
    "thislist[1:3] = [\"blackcurrent\", \"watermelo\"]\n",
    "print(thislist)"
   ]
  },
  {
   "cell_type": "markdown",
   "id": "2679b2b8-5958-4eba-9d25-b17462f00c15",
   "metadata": {},
   "source": [
    "# list append method"
   ]
  },
  {
   "cell_type": "code",
   "execution_count": 102,
   "id": "255c2de3-7c5f-41b7-b690-a404bd5a8e3a",
   "metadata": {},
   "outputs": [
    {
     "data": {
      "text/plain": [
       "[1, 2, 4, 10, 7]"
      ]
     },
     "execution_count": 102,
     "metadata": {},
     "output_type": "execute_result"
    }
   ],
   "source": [
    "mylist"
   ]
  },
  {
   "cell_type": "code",
   "execution_count": 103,
   "id": "2f871af5-aafe-4a97-9bfc-f34deb001570",
   "metadata": {},
   "outputs": [],
   "source": [
    "mylist.append(11)"
   ]
  },
  {
   "cell_type": "code",
   "execution_count": 104,
   "id": "c529ffe2-2883-485c-a7c1-8038ce908263",
   "metadata": {},
   "outputs": [
    {
     "data": {
      "text/plain": [
       "[1, 2, 4, 10, 7, 11]"
      ]
     },
     "execution_count": 104,
     "metadata": {},
     "output_type": "execute_result"
    }
   ],
   "source": [
    "mylist"
   ]
  },
  {
   "cell_type": "markdown",
   "id": "8b88a5bb-79d4-4cf8-bf57-1b78793f2b79",
   "metadata": {},
   "source": [
    "## insert method\n",
    "used for adding new iterm to an exiting list from any position"
   ]
  },
  {
   "cell_type": "code",
   "execution_count": 105,
   "id": "6f9cc325-5169-4976-bd67-f34a6ef2d18f",
   "metadata": {},
   "outputs": [],
   "source": [
    "mylist.insert(3,\"red\")"
   ]
  },
  {
   "cell_type": "code",
   "execution_count": 106,
   "id": "2c91e3bb-dae4-49f9-aef2-bb9f09bc02cc",
   "metadata": {},
   "outputs": [
    {
     "data": {
      "text/plain": [
       "[1, 2, 4, 'red', 10, 7, 11]"
      ]
     },
     "execution_count": 106,
     "metadata": {},
     "output_type": "execute_result"
    }
   ],
   "source": [
    "mylist"
   ]
  },
  {
   "cell_type": "markdown",
   "id": "38dc9f16-5055-4507-ac02-27eeaef60542",
   "metadata": {},
   "source": [
    "## Remove metho\n",
    "used for removing an item from an exiting list"
   ]
  },
  {
   "cell_type": "code",
   "execution_count": 107,
   "id": "ec2c456d-6849-4075-a398-2ee3228ab4e0",
   "metadata": {},
   "outputs": [
    {
     "data": {
      "text/plain": [
       "['apple', 'blackcurrent', 'watermelo', 'kiwi', 'mango']"
      ]
     },
     "execution_count": 107,
     "metadata": {},
     "output_type": "execute_result"
    }
   ],
   "source": [
    "thislist"
   ]
  },
  {
   "cell_type": "code",
   "execution_count": 108,
   "id": "31235721-7c32-48e1-8cc9-0a22ced5c66b",
   "metadata": {},
   "outputs": [],
   "source": [
    "## remove watermelo from the list\n",
    "## thislist. remove(['apple','watermelo'])"
   ]
  },
  {
   "cell_type": "code",
   "execution_count": 109,
   "id": "99ae8261-13fb-46ee-b79d-8b52ec7073cd",
   "metadata": {},
   "outputs": [
    {
     "data": {
      "text/plain": [
       "['apple', 'blackcurrent', 'watermelo', 'kiwi', 'mango']"
      ]
     },
     "execution_count": 109,
     "metadata": {},
     "output_type": "execute_result"
    }
   ],
   "source": [
    "thislist"
   ]
  },
  {
   "cell_type": "markdown",
   "id": "894324ee-77af-4c64-a089-e7329cb96f5f",
   "metadata": {},
   "source": [
    "## pop method"
   ]
  },
  {
   "cell_type": "code",
   "execution_count": 110,
   "id": "4192b515-89c7-4e67-af9e-db1d6b8f3522",
   "metadata": {},
   "outputs": [
    {
     "data": {
      "text/plain": [
       "'blackcurrent'"
      ]
     },
     "execution_count": 110,
     "metadata": {},
     "output_type": "execute_result"
    }
   ],
   "source": [
    "thislist.pop(1)"
   ]
  },
  {
   "cell_type": "code",
   "execution_count": 111,
   "id": "dc49c522-d824-412f-8a79-2d9ac281acd3",
   "metadata": {},
   "outputs": [
    {
     "data": {
      "text/plain": [
       "['apple', 'watermelo', 'kiwi', 'mango']"
      ]
     },
     "execution_count": 111,
     "metadata": {},
     "output_type": "execute_result"
    }
   ],
   "source": [
    "thislist"
   ]
  },
  {
   "cell_type": "markdown",
   "id": "38214180-9d81-4f74-a7b2-568a0e9e2519",
   "metadata": {},
   "source": [
    "## clear method\n",
    "empties the list"
   ]
  },
  {
   "cell_type": "code",
   "execution_count": 112,
   "id": "adcf66ef-d797-4d75-869e-7511f29acf9b",
   "metadata": {},
   "outputs": [],
   "source": [
    "thislist.clear()"
   ]
  },
  {
   "cell_type": "code",
   "execution_count": 113,
   "id": "3308dde8-16c1-4a38-9545-bfcb5fa92f75",
   "metadata": {},
   "outputs": [
    {
     "data": {
      "text/plain": [
       "[]"
      ]
     },
     "execution_count": 113,
     "metadata": {},
     "output_type": "execute_result"
    }
   ],
   "source": [
    "thislist"
   ]
  },
  {
   "cell_type": "markdown",
   "id": "fe28fc86-66fb-4772-9bf4-17f0abfaa57a",
   "metadata": {},
   "source": [
    "### dictionary"
   ]
  },
  {
   "cell_type": "code",
   "execution_count": 114,
   "id": "08b56a79-a066-4186-aa69-0c79102e633e",
   "metadata": {},
   "outputs": [
    {
     "name": "stdout",
     "output_type": "stream",
     "text": [
      "{'email': 'abc@d.com', 'firstname': 'ayomide', 'lastname': 'oluwaseyi', 'password': 12345}\n"
     ]
    }
   ],
   "source": [
    "users = {\"email\": \"abc@d.com\", \"firstname\": \"ayomide\", \"lastname\": \"oluwaseyi\", \"password\": 12345}\n",
    "print(users)"
   ]
  },
  {
   "cell_type": "code",
   "execution_count": 115,
   "id": "34759afd-9f56-4029-8cc3-055e8f829803",
   "metadata": {},
   "outputs": [
    {
     "data": {
      "text/plain": [
       "'ayomide'"
      ]
     },
     "execution_count": 115,
     "metadata": {},
     "output_type": "execute_result"
    }
   ],
   "source": [
    "users[\"firstname\"]"
   ]
  },
  {
   "cell_type": "code",
   "execution_count": 116,
   "id": "8d8bbf6e-a797-4f58-99d9-33e4d955108d",
   "metadata": {},
   "outputs": [
    {
     "data": {
      "text/plain": [
       "12345"
      ]
     },
     "execution_count": 116,
     "metadata": {},
     "output_type": "execute_result"
    }
   ],
   "source": [
    "users[\"password\"]"
   ]
  },
  {
   "cell_type": "code",
   "execution_count": 117,
   "id": "b5d0a83d-7abe-4c53-b474-8f00db2b2e66",
   "metadata": {},
   "outputs": [
    {
     "data": {
      "text/plain": [
       "4"
      ]
     },
     "execution_count": 117,
     "metadata": {},
     "output_type": "execute_result"
    }
   ],
   "source": [
    "## length of a dictionary\n",
    "len(users)"
   ]
  },
  {
   "cell_type": "code",
   "execution_count": 118,
   "id": "cf21a09d-1e5a-4f07-a1c2-b290efae0216",
   "metadata": {},
   "outputs": [
    {
     "data": {
      "text/plain": [
       "dict_keys(['email', 'firstname', 'lastname', 'password'])"
      ]
     },
     "execution_count": 118,
     "metadata": {},
     "output_type": "execute_result"
    }
   ],
   "source": [
    "## call out all the key in the dictionary\n",
    "users.keys()"
   ]
  },
  {
   "cell_type": "markdown",
   "id": "9afdb952-c933-48e8-b185-80b97583cd4d",
   "metadata": {},
   "source": [
    "## value method\n",
    "call out the value of a dictionary"
   ]
  },
  {
   "cell_type": "code",
   "execution_count": 119,
   "id": "20a8f2db-d788-424b-af3c-6d2dc8433918",
   "metadata": {},
   "outputs": [
    {
     "data": {
      "text/plain": [
       "dict_values(['abc@d.com', 'ayomide', 'oluwaseyi', 12345])"
      ]
     },
     "execution_count": 119,
     "metadata": {},
     "output_type": "execute_result"
    }
   ],
   "source": [
    "users.values()"
   ]
  },
  {
   "cell_type": "markdown",
   "id": "461b3e19-ae2c-4413-aab0-723f0297da24",
   "metadata": {},
   "source": [
    "## changing value of a dictionary\n",
    "users['password'] = 56789"
   ]
  },
  {
   "cell_type": "code",
   "execution_count": 120,
   "id": "d348ee3e-0b2d-445a-b05d-f10f539c516c",
   "metadata": {},
   "outputs": [
    {
     "data": {
      "text/plain": [
       "{'email': 'abc@d.com',\n",
       " 'firstname': 'ayomide',\n",
       " 'lastname': 'oluwaseyi',\n",
       " 'password': 12345}"
      ]
     },
     "execution_count": 120,
     "metadata": {},
     "output_type": "execute_result"
    }
   ],
   "source": [
    "users"
   ]
  },
  {
   "cell_type": "code",
   "execution_count": 121,
   "id": "9b1c9943-7ecb-42ca-8a8c-c2cf8daf6f3b",
   "metadata": {},
   "outputs": [],
   "source": [
    "users['firstname'] = 'ibrahim'\n"
   ]
  },
  {
   "cell_type": "code",
   "execution_count": 122,
   "id": "6051a0bb-bdfc-4d7e-b485-fc2200eb8d19",
   "metadata": {},
   "outputs": [
    {
     "data": {
      "text/plain": [
       "{'email': 'abc@d.com',\n",
       " 'firstname': 'ibrahim',\n",
       " 'lastname': 'oluwaseyi',\n",
       " 'password': 12345}"
      ]
     },
     "execution_count": 122,
     "metadata": {},
     "output_type": "execute_result"
    }
   ],
   "source": [
    "users"
   ]
  },
  {
   "cell_type": "code",
   "execution_count": 123,
   "id": "22f687e3-5ce4-4689-95a8-ef51d78b9cb3",
   "metadata": {},
   "outputs": [],
   "source": [
    "users['lastname'] = 'yahaya'"
   ]
  },
  {
   "cell_type": "code",
   "execution_count": 124,
   "id": "17e1377d-f014-4ee2-ba2d-e91565133367",
   "metadata": {},
   "outputs": [
    {
     "data": {
      "text/plain": [
       "{'email': 'abc@d.com',\n",
       " 'firstname': 'ibrahim',\n",
       " 'lastname': 'yahaya',\n",
       " 'password': 12345}"
      ]
     },
     "execution_count": 124,
     "metadata": {},
     "output_type": "execute_result"
    }
   ],
   "source": [
    "users"
   ]
  },
  {
   "cell_type": "code",
   "execution_count": 125,
   "id": "e60b3709-ae8f-4fe8-8a39-16b8d14eda80",
   "metadata": {},
   "outputs": [],
   "source": [
    "## add new itemsto a dictionary\n",
    "users[\"gender\"] = \"male\""
   ]
  },
  {
   "cell_type": "code",
   "execution_count": 126,
   "id": "221af56d-0799-49a3-b2a7-cd554141bf69",
   "metadata": {},
   "outputs": [
    {
     "data": {
      "text/plain": [
       "{'email': 'abc@d.com',\n",
       " 'firstname': 'ibrahim',\n",
       " 'lastname': 'yahaya',\n",
       " 'password': 12345,\n",
       " 'gender': 'male'}"
      ]
     },
     "execution_count": 126,
     "metadata": {},
     "output_type": "execute_result"
    }
   ],
   "source": [
    "users"
   ]
  },
  {
   "cell_type": "markdown",
   "id": "fba57557-3eb6-4ebd-b849-03ab59fae22c",
   "metadata": {},
   "source": [
    "## pop method"
   ]
  },
  {
   "cell_type": "code",
   "execution_count": 127,
   "id": "d58422b2-29fd-4c26-b272-425d254d56b1",
   "metadata": {},
   "outputs": [
    {
     "data": {
      "text/plain": [
       "12345"
      ]
     },
     "execution_count": 127,
     "metadata": {},
     "output_type": "execute_result"
    }
   ],
   "source": [
    "# removing the password from the users dictionary\n",
    "users.pop(\"password\")"
   ]
  },
  {
   "cell_type": "markdown",
   "id": "367461b9-3d06-4e5b-9fef-3772de35ed17",
   "metadata": {},
   "source": [
    "## clear method"
   ]
  },
  {
   "cell_type": "code",
   "execution_count": 130,
   "id": "7c9b6897-456f-4e52-bf8b-118593d9b34d",
   "metadata": {},
   "outputs": [],
   "source": [
    "users.clear()"
   ]
  },
  {
   "cell_type": "code",
   "execution_count": 135,
   "id": "46fbc26e-cada-4297-982d-3fb4be7cabc5",
   "metadata": {},
   "outputs": [
    {
     "data": {
      "text/plain": [
       "{}"
      ]
     },
     "execution_count": 135,
     "metadata": {},
     "output_type": "execute_result"
    }
   ],
   "source": [
    "users"
   ]
  },
  {
   "cell_type": "markdown",
   "id": "776bfd3a-fe38-49ba-aebb-03b243f8bb61",
   "metadata": {},
   "source": [
    "## if eslse statement"
   ]
  },
  {
   "cell_type": "code",
   "execution_count": 137,
   "id": "1d1941a4-879f-4746-b070-d24d79fa4a2a",
   "metadata": {},
   "outputs": [],
   "source": [
    "# if statement\n",
    "a = 100\n",
    "b = 20\n",
    "if b > a :\n",
    "    print(\"b is greater than a \")"
   ]
  },
  {
   "cell_type": "code",
   "execution_count": 141,
   "id": "b6aab36e-4c8b-4748-9783-add7a6ace725",
   "metadata": {},
   "outputs": [
    {
     "name": "stdout",
     "output_type": "stream",
     "text": [
      "fail\n"
     ]
    }
   ],
   "source": [
    "# if else statement\n",
    "score = 30\n",
    "if score <=45:\n",
    "    print(\"fail\")\n",
    "else:\n",
    "    print(\"pass\")"
   ]
  },
  {
   "cell_type": "markdown",
   "id": "359598fd-6cea-4fb4-b196-2da38a582246",
   "metadata": {},
   "source": [
    "## if esle statement for multiple ifs"
   ]
  },
  {
   "cell_type": "code",
   "execution_count": 143,
   "id": "b2e6a67e-8653-483b-9584-53e436bafca3",
   "metadata": {},
   "outputs": [],
   "source": [
    "score = 20"
   ]
  },
  {
   "cell_type": "markdown",
   "id": "feca2393-9558-4c19-a2ad-ef85b7dd88db",
   "metadata": {},
   "source": [
    "# grading system"
   ]
  },
  {
   "cell_type": "code",
   "execution_count": 148,
   "id": "ab49897c-f238-412e-bc11-d145f61af922",
   "metadata": {},
   "outputs": [],
   "source": [
    "score= 20"
   ]
  },
  {
   "cell_type": "code",
   "execution_count": null,
   "id": "835f6455-a183-4f59-aa25-3b6c4e719367",
   "metadata": {},
   "outputs": [],
   "source": []
  },
  {
   "cell_type": "code",
   "execution_count": 152,
   "id": "e70ad5bc-dc1b-40e5-859a-8f5bd1d34979",
   "metadata": {},
   "outputs": [
    {
     "name": "stdout",
     "output_type": "stream",
     "text": [
      "F\n"
     ]
    }
   ],
   "source": [
    "if score < 45:\n",
    "    print('F')\n",
    "elif score < 50:\n",
    "    print('D')\n",
    "elif score < 60:\n",
    "    print('C')\n",
    "elif score < 70:\n",
    "    print('B')\n",
    "else:\n",
    "    print('A')"
   ]
  },
  {
   "cell_type": "code",
   "execution_count": null,
   "id": "49a9efaa-f470-477a-9725-1152ae392835",
   "metadata": {},
   "outputs": [],
   "source": []
  },
  {
   "cell_type": "code",
   "execution_count": 161,
   "id": "b3fad96b-e688-40a1-85c6-1f8d03fe6973",
   "metadata": {},
   "outputs": [],
   "source": [
    "name =\"ibrahim\"\n",
    "password = 12345"
   ]
  },
  {
   "cell_type": "code",
   "execution_count": 162,
   "id": "a64e6ddd-a0c5-4159-b9e6-16ef23e13d77",
   "metadata": {},
   "outputs": [
    {
     "name": "stdout",
     "output_type": "stream",
     "text": [
      "login sucessfull\n"
     ]
    }
   ],
   "source": [
    "if name == 'ibrahim' and password == 12345:\n",
    "    print('login sucessfull')\n",
    "else: \n",
    "    print('invalid login detail')"
   ]
  },
  {
   "cell_type": "code",
   "execution_count": null,
   "id": "b98ddaa5-26c9-4827-83f4-e01bcc431df3",
   "metadata": {},
   "outputs": [],
   "source": []
  }
 ],
 "metadata": {
  "kernelspec": {
   "display_name": "Python 3 (ipykernel)",
   "language": "python",
   "name": "python3"
  },
  "language_info": {
   "codemirror_mode": {
    "name": "ipython",
    "version": 3
   },
   "file_extension": ".py",
   "mimetype": "text/x-python",
   "name": "python",
   "nbconvert_exporter": "python",
   "pygments_lexer": "ipython3",
   "version": "3.12.4"
  }
 },
 "nbformat": 4,
 "nbformat_minor": 5
}
