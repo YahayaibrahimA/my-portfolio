{
 "cells": [
  {
   "cell_type": "code",
   "execution_count": 81,
   "id": "821cf324-fae4-4f2f-a25a-5be6b3358303",
   "metadata": {},
   "outputs": [],
   "source": [
    "%matplotlib inline"
   ]
  },
  {
   "cell_type": "code",
   "execution_count": 82,
   "id": "7856c83e-567c-4cf1-9158-0dfd0490c07c",
   "metadata": {},
   "outputs": [],
   "source": [
    "import pandas as pd"
   ]
  },
  {
   "cell_type": "code",
   "execution_count": 83,
   "id": "5fe7cbd6-17c0-4ef4-a074-5ba6d9cadbd1",
   "metadata": {},
   "outputs": [],
   "source": [
    "import numpy as np\n",
    "import matplotlib.pyplot as plt"
   ]
  },
  {
   "cell_type": "code",
   "execution_count": 84,
   "id": "6564871f-0bc6-434d-8d5a-32378cf00a9f",
   "metadata": {},
   "outputs": [],
   "source": [
    "df = pd.read_table('fruit_data_with_colors.txt')"
   ]
  },
  {
   "cell_type": "code",
   "execution_count": 85,
   "id": "771d6aa1-1d30-423b-9bde-dc1ffd120be6",
   "metadata": {},
   "outputs": [
    {
     "data": {
      "text/html": [
       "<div>\n",
       "<style scoped>\n",
       "    .dataframe tbody tr th:only-of-type {\n",
       "        vertical-align: middle;\n",
       "    }\n",
       "\n",
       "    .dataframe tbody tr th {\n",
       "        vertical-align: top;\n",
       "    }\n",
       "\n",
       "    .dataframe thead th {\n",
       "        text-align: right;\n",
       "    }\n",
       "</style>\n",
       "<table border=\"1\" class=\"dataframe\">\n",
       "  <thead>\n",
       "    <tr style=\"text-align: right;\">\n",
       "      <th></th>\n",
       "      <th>fruit_label</th>\n",
       "      <th>fruit_name</th>\n",
       "      <th>fruit_subtype</th>\n",
       "      <th>mass</th>\n",
       "      <th>width</th>\n",
       "      <th>height</th>\n",
       "      <th>color_score</th>\n",
       "    </tr>\n",
       "  </thead>\n",
       "  <tbody>\n",
       "    <tr>\n",
       "      <th>0</th>\n",
       "      <td>1</td>\n",
       "      <td>apple</td>\n",
       "      <td>granny_smith</td>\n",
       "      <td>192</td>\n",
       "      <td>8.4</td>\n",
       "      <td>7.3</td>\n",
       "      <td>0.55</td>\n",
       "    </tr>\n",
       "    <tr>\n",
       "      <th>1</th>\n",
       "      <td>1</td>\n",
       "      <td>apple</td>\n",
       "      <td>granny_smith</td>\n",
       "      <td>180</td>\n",
       "      <td>8.0</td>\n",
       "      <td>6.8</td>\n",
       "      <td>0.59</td>\n",
       "    </tr>\n",
       "    <tr>\n",
       "      <th>2</th>\n",
       "      <td>1</td>\n",
       "      <td>apple</td>\n",
       "      <td>granny_smith</td>\n",
       "      <td>176</td>\n",
       "      <td>7.4</td>\n",
       "      <td>7.2</td>\n",
       "      <td>0.60</td>\n",
       "    </tr>\n",
       "    <tr>\n",
       "      <th>3</th>\n",
       "      <td>2</td>\n",
       "      <td>mandarin</td>\n",
       "      <td>mandarin</td>\n",
       "      <td>86</td>\n",
       "      <td>6.2</td>\n",
       "      <td>4.7</td>\n",
       "      <td>0.80</td>\n",
       "    </tr>\n",
       "    <tr>\n",
       "      <th>4</th>\n",
       "      <td>2</td>\n",
       "      <td>mandarin</td>\n",
       "      <td>mandarin</td>\n",
       "      <td>84</td>\n",
       "      <td>6.0</td>\n",
       "      <td>4.6</td>\n",
       "      <td>0.79</td>\n",
       "    </tr>\n",
       "  </tbody>\n",
       "</table>\n",
       "</div>"
      ],
      "text/plain": [
       "   fruit_label fruit_name fruit_subtype  mass  width  height  color_score\n",
       "0            1      apple  granny_smith   192    8.4     7.3         0.55\n",
       "1            1      apple  granny_smith   180    8.0     6.8         0.59\n",
       "2            1      apple  granny_smith   176    7.4     7.2         0.60\n",
       "3            2   mandarin      mandarin    86    6.2     4.7         0.80\n",
       "4            2   mandarin      mandarin    84    6.0     4.6         0.79"
      ]
     },
     "execution_count": 85,
     "metadata": {},
     "output_type": "execute_result"
    }
   ],
   "source": [
    "df.head()"
   ]
  },
  {
   "cell_type": "code",
   "execution_count": 86,
   "id": "6dfe61fe-5a6a-40f2-93f7-7e741e42d3f9",
   "metadata": {},
   "outputs": [
    {
     "data": {
      "text/plain": [
       "array(['apple', 'mandarin', 'orange', 'lemon'], dtype=object)"
      ]
     },
     "execution_count": 86,
     "metadata": {},
     "output_type": "execute_result"
    }
   ],
   "source": [
    "df['fruit_name'].unique()"
   ]
  },
  {
   "cell_type": "markdown",
   "id": "ff1e1efc-b159-41f6-b9cc-5d808d66c487",
   "metadata": {},
   "source": [
    "## Dimensionality reduction (transformation)"
   ]
  },
  {
   "cell_type": "code",
   "execution_count": 87,
   "id": "9d672986-b76c-4f04-9249-6a44215b85cb",
   "metadata": {},
   "outputs": [],
   "source": [
    "x = df.drop(['fruit_name', 'fruit_label', 'fruit_subtype'], axis = 1)"
   ]
  },
  {
   "cell_type": "code",
   "execution_count": 88,
   "id": "b5cc3636-8642-4697-b2e8-3e08c504351f",
   "metadata": {},
   "outputs": [
    {
     "data": {
      "text/html": [
       "<div>\n",
       "<style scoped>\n",
       "    .dataframe tbody tr th:only-of-type {\n",
       "        vertical-align: middle;\n",
       "    }\n",
       "\n",
       "    .dataframe tbody tr th {\n",
       "        vertical-align: top;\n",
       "    }\n",
       "\n",
       "    .dataframe thead th {\n",
       "        text-align: right;\n",
       "    }\n",
       "</style>\n",
       "<table border=\"1\" class=\"dataframe\">\n",
       "  <thead>\n",
       "    <tr style=\"text-align: right;\">\n",
       "      <th></th>\n",
       "      <th>mass</th>\n",
       "      <th>width</th>\n",
       "      <th>height</th>\n",
       "      <th>color_score</th>\n",
       "    </tr>\n",
       "  </thead>\n",
       "  <tbody>\n",
       "    <tr>\n",
       "      <th>0</th>\n",
       "      <td>192</td>\n",
       "      <td>8.4</td>\n",
       "      <td>7.3</td>\n",
       "      <td>0.55</td>\n",
       "    </tr>\n",
       "    <tr>\n",
       "      <th>1</th>\n",
       "      <td>180</td>\n",
       "      <td>8.0</td>\n",
       "      <td>6.8</td>\n",
       "      <td>0.59</td>\n",
       "    </tr>\n",
       "    <tr>\n",
       "      <th>2</th>\n",
       "      <td>176</td>\n",
       "      <td>7.4</td>\n",
       "      <td>7.2</td>\n",
       "      <td>0.60</td>\n",
       "    </tr>\n",
       "    <tr>\n",
       "      <th>3</th>\n",
       "      <td>86</td>\n",
       "      <td>6.2</td>\n",
       "      <td>4.7</td>\n",
       "      <td>0.80</td>\n",
       "    </tr>\n",
       "    <tr>\n",
       "      <th>4</th>\n",
       "      <td>84</td>\n",
       "      <td>6.0</td>\n",
       "      <td>4.6</td>\n",
       "      <td>0.79</td>\n",
       "    </tr>\n",
       "  </tbody>\n",
       "</table>\n",
       "</div>"
      ],
      "text/plain": [
       "   mass  width  height  color_score\n",
       "0   192    8.4     7.3         0.55\n",
       "1   180    8.0     6.8         0.59\n",
       "2   176    7.4     7.2         0.60\n",
       "3    86    6.2     4.7         0.80\n",
       "4    84    6.0     4.6         0.79"
      ]
     },
     "execution_count": 88,
     "metadata": {},
     "output_type": "execute_result"
    }
   ],
   "source": [
    "x.head()"
   ]
  },
  {
   "cell_type": "code",
   "execution_count": 89,
   "id": "e8436fcb-cca6-4199-a4a7-54184dfe157d",
   "metadata": {},
   "outputs": [
    {
     "data": {
      "image/png": "[encoded data removed]",
      "text/plain": [
       "<Figure size 640x480 with 1 Axes>"
      ]
     },
     "metadata": {},
     "output_type": "display_data"
    }
   ],
   "source": [
    "plt.scatter(x['mass'], x['width'])\n",
    "plt.show()"
   ]
  },
  {
   "cell_type": "code",
   "execution_count": 90,
   "id": "d4a6f71c-2a99-4050-addf-0ad1f5ca1f00",
   "metadata": {},
   "outputs": [
    {
     "data": {
      "text/plain": [
       "(59, 4)"
      ]
     },
     "execution_count": 90,
     "metadata": {},
     "output_type": "execute_result"
    }
   ],
   "source": [
    "x.shape"
   ]
  },
  {
   "cell_type": "code",
   "execution_count": 91,
   "id": "bfb71082-27ab-461f-a56d-8ffc062f15e0",
   "metadata": {},
   "outputs": [],
   "source": [
    "from sklearn.preprocessing import StandardScaler\n",
    "from sklearn.decomposition import PCA"
   ]
  },
  {
   "cell_type": "code",
   "execution_count": 92,
   "id": "f4696d30-1797-45d8-b3fe-7f56fcdfe637",
   "metadata": {},
   "outputs": [],
   "source": [
    "scaler = StandardScaler()\n",
    "x = scaler.fit_transform(x)"
   ]
  },
  {
   "cell_type": "code",
   "execution_count": 93,
   "id": "5e8c3ae3-96fb-45d4-964b-cc13c2f78559",
   "metadata": {},
   "outputs": [],
   "source": [
    "# initialze pca\n",
    "pca = PCA(n_components=2)"
   ]
  },
  {
   "cell_type": "code",
   "execution_count": 94,
   "id": "c9013eec-6ff3-44b5-a58b-0517ccab2588",
   "metadata": {},
   "outputs": [
    {
     "data": {
      "text/plain": [
       "array([[ 1.57216938, -1.98004398],\n",
       "       [ 0.87841688, -1.5793734 ],\n",
       "       [ 0.52977322, -1.73289051],\n",
       "       [-2.71261023,  0.41467382],\n",
       "       [-2.89341158,  0.24200292],\n",
       "       [-3.14907175, -0.0227446 ],\n",
       "       [-3.16435024,  0.48979866],\n",
       "       [-3.39197004,  0.49705157],\n",
       "       [-0.1337842 ,  1.92251073],\n",
       "       [-0.21783491,  1.77601184],\n",
       "       [-0.61983992,  2.02528232],\n",
       "       [-0.27623512,  1.93637892],\n",
       "       [-0.65153341,  1.44776118],\n",
       "       [ 0.28790153, -0.6930091 ],\n",
       "       [ 0.23873686, -0.69117127],\n",
       "       [ 0.28247682, -0.61002894],\n",
       "       [ 0.40154031, -0.95274558],\n",
       "       [ 0.37479841, -0.23727398],\n",
       "       [-0.09457474,  1.03234545],\n",
       "       [-0.17247687,  1.2237516 ],\n",
       "       [-0.03541549,  1.31528018],\n",
       "       [-0.14616449,  1.04663218],\n",
       "       [-0.57656054,  1.37171952],\n",
       "       [ 0.2545604 ,  1.55238094],\n",
       "       [ 4.06190602,  0.7801176 ],\n",
       "       [ 4.29183685,  0.92853405],\n",
       "       [ 4.66783223,  0.95558303],\n",
       "       [ 1.28997005,  0.08988633],\n",
       "       [-0.67982451, -0.62109734],\n",
       "       [-0.3206905 ,  0.57431408],\n",
       "       [-0.19220276,  0.34038653],\n",
       "       [ 1.02333797,  1.01925473],\n",
       "       [-0.25748381,  0.60200071],\n",
       "       [ 0.78964841, -0.12660148],\n",
       "       [ 0.17782847, -0.09375457],\n",
       "       [-0.05032646, -0.24006851],\n",
       "       [-0.06748216, -0.03094344],\n",
       "       [-0.16896886,  0.42433326],\n",
       "       [ 0.03280326,  0.07826419],\n",
       "       [-0.51718301, -0.26753603],\n",
       "       [-0.21647598,  0.20578852],\n",
       "       [ 0.67465482,  0.45271762],\n",
       "       [-0.34208237,  0.77136892],\n",
       "       [ 1.51721236, -1.07667244],\n",
       "       [ 1.68770366, -0.81854019],\n",
       "       [ 0.97749254, -0.6703133 ],\n",
       "       [ 1.7827658 , -0.82846803],\n",
       "       [ 1.34756326, -0.69143441],\n",
       "       [ 1.24203754, -0.84094693],\n",
       "       [-0.84716694, -1.0954625 ],\n",
       "       [-0.86797576, -1.19185814],\n",
       "       [-1.30783125, -0.99797651],\n",
       "       [-1.17234433, -1.11066607],\n",
       "       [-0.97423375, -0.90221852],\n",
       "       [-0.8470529 , -1.26358078],\n",
       "       [-1.02020159, -0.93896174],\n",
       "       [-1.18019412, -1.01523701],\n",
       "       [-0.16988148, -0.88853944],\n",
       "       [-0.94953101, -1.30597269]])"
      ]
     },
     "execution_count": 94,
     "metadata": {},
     "output_type": "execute_result"
    }
   ],
   "source": [
    "pca.fit_transform(x)"
   ]
  },
  {
   "cell_type": "code",
   "execution_count": 95,
   "id": "679f3144-3728-4999-90c0-041a267c69c0",
   "metadata": {},
   "outputs": [],
   "source": [
    "x_pca = pca.fit_transform(x)"
   ]
  },
  {
   "cell_type": "code",
   "execution_count": 96,
   "id": "0185e440-b84c-4cea-aae8-902121151054",
   "metadata": {},
   "outputs": [
    {
     "data": {
      "text/plain": [
       "array([[ 1.57216938, -1.98004398],\n",
       "       [ 0.87841688, -1.5793734 ],\n",
       "       [ 0.52977322, -1.73289051],\n",
       "       [-2.71261023,  0.41467382],\n",
       "       [-2.89341158,  0.24200292],\n",
       "       [-3.14907175, -0.0227446 ],\n",
       "       [-3.16435024,  0.48979866],\n",
       "       [-3.39197004,  0.49705157],\n",
       "       [-0.1337842 ,  1.92251073],\n",
       "       [-0.21783491,  1.77601184],\n",
       "       [-0.61983992,  2.02528232],\n",
       "       [-0.27623512,  1.93637892],\n",
       "       [-0.65153341,  1.44776118],\n",
       "       [ 0.28790153, -0.6930091 ],\n",
       "       [ 0.23873686, -0.69117127],\n",
       "       [ 0.28247682, -0.61002894],\n",
       "       [ 0.40154031, -0.95274558],\n",
       "       [ 0.37479841, -0.23727398],\n",
       "       [-0.09457474,  1.03234545],\n",
       "       [-0.17247687,  1.2237516 ],\n",
       "       [-0.03541549,  1.31528018],\n",
       "       [-0.14616449,  1.04663218],\n",
       "       [-0.57656054,  1.37171952],\n",
       "       [ 0.2545604 ,  1.55238094],\n",
       "       [ 4.06190602,  0.7801176 ],\n",
       "       [ 4.29183685,  0.92853405],\n",
       "       [ 4.66783223,  0.95558303],\n",
       "       [ 1.28997005,  0.08988633],\n",
       "       [-0.67982451, -0.62109734],\n",
       "       [-0.3206905 ,  0.57431408],\n",
       "       [-0.19220276,  0.34038653],\n",
       "       [ 1.02333797,  1.01925473],\n",
       "       [-0.25748381,  0.60200071],\n",
       "       [ 0.78964841, -0.12660148],\n",
       "       [ 0.17782847, -0.09375457],\n",
       "       [-0.05032646, -0.24006851],\n",
       "       [-0.06748216, -0.03094344],\n",
       "       [-0.16896886,  0.42433326],\n",
       "       [ 0.03280326,  0.07826419],\n",
       "       [-0.51718301, -0.26753603],\n",
       "       [-0.21647598,  0.20578852],\n",
       "       [ 0.67465482,  0.45271762],\n",
       "       [-0.34208237,  0.77136892],\n",
       "       [ 1.51721236, -1.07667244],\n",
       "       [ 1.68770366, -0.81854019],\n",
       "       [ 0.97749254, -0.6703133 ],\n",
       "       [ 1.7827658 , -0.82846803],\n",
       "       [ 1.34756326, -0.69143441],\n",
       "       [ 1.24203754, -0.84094693],\n",
       "       [-0.84716694, -1.0954625 ],\n",
       "       [-0.86797576, -1.19185814],\n",
       "       [-1.30783125, -0.99797651],\n",
       "       [-1.17234433, -1.11066607],\n",
       "       [-0.97423375, -0.90221852],\n",
       "       [-0.8470529 , -1.26358078],\n",
       "       [-1.02020159, -0.93896174],\n",
       "       [-1.18019412, -1.01523701],\n",
       "       [-0.16988148, -0.88853944],\n",
       "       [-0.94953101, -1.30597269]])"
      ]
     },
     "execution_count": 96,
     "metadata": {},
     "output_type": "execute_result"
    }
   ],
   "source": [
    "x_pca"
   ]
  },
  {
   "cell_type": "code",
   "execution_count": 97,
   "id": "b7f261b5-7a35-4597-8c8e-25532c58b788",
   "metadata": {},
   "outputs": [
    {
     "data": {
      "text/plain": [
       "array([ 1.57216938,  0.87841688,  0.52977322, -2.71261023, -2.89341158,\n",
       "       -3.14907175, -3.16435024, -3.39197004, -0.1337842 , -0.21783491,\n",
       "       -0.61983992, -0.27623512, -0.65153341,  0.28790153,  0.23873686,\n",
       "        0.28247682,  0.40154031,  0.37479841, -0.09457474, -0.17247687,\n",
       "       -0.03541549, -0.14616449, -0.57656054,  0.2545604 ,  4.06190602,\n",
       "        4.29183685,  4.66783223,  1.28997005, -0.67982451, -0.3206905 ,\n",
       "       -0.19220276,  1.02333797, -0.25748381,  0.78964841,  0.17782847,\n",
       "       -0.05032646, -0.06748216, -0.16896886,  0.03280326, -0.51718301,\n",
       "       -0.21647598,  0.67465482, -0.34208237,  1.51721236,  1.68770366,\n",
       "        0.97749254,  1.7827658 ,  1.34756326,  1.24203754, -0.84716694,\n",
       "       -0.86797576, -1.30783125, -1.17234433, -0.97423375, -0.8470529 ,\n",
       "       -1.02020159, -1.18019412, -0.16988148, -0.94953101])"
      ]
     },
     "execution_count": 97,
     "metadata": {},
     "output_type": "execute_result"
    }
   ],
   "source": [
    "first_component = x_pca[:,0]\n",
    "first_component"
   ]
  },
  {
   "cell_type": "code",
   "execution_count": 98,
   "id": "cf8fd145-642f-4185-b204-d2521c1455ed",
   "metadata": {},
   "outputs": [
    {
     "data": {
      "text/plain": [
       "array([-1.98004398, -1.5793734 , -1.73289051,  0.41467382,  0.24200292,\n",
       "       -0.0227446 ,  0.48979866,  0.49705157,  1.92251073,  1.77601184,\n",
       "        2.02528232,  1.93637892,  1.44776118, -0.6930091 , -0.69117127,\n",
       "       -0.61002894, -0.95274558, -0.23727398,  1.03234545,  1.2237516 ,\n",
       "        1.31528018,  1.04663218,  1.37171952,  1.55238094,  0.7801176 ,\n",
       "        0.92853405,  0.95558303,  0.08988633, -0.62109734,  0.57431408,\n",
       "        0.34038653,  1.01925473,  0.60200071, -0.12660148, -0.09375457,\n",
       "       -0.24006851, -0.03094344,  0.42433326,  0.07826419, -0.26753603,\n",
       "        0.20578852,  0.45271762,  0.77136892, -1.07667244, -0.81854019,\n",
       "       -0.6703133 , -0.82846803, -0.69143441, -0.84094693, -1.0954625 ,\n",
       "       -1.19185814, -0.99797651, -1.11066607, -0.90221852, -1.26358078,\n",
       "       -0.93896174, -1.01523701, -0.88853944, -1.30597269])"
      ]
     },
     "execution_count": 98,
     "metadata": {},
     "output_type": "execute_result"
    }
   ],
   "source": [
    "second_component= x_pca[:,1]\n",
    "second_component"
   ]
  },
  {
   "cell_type": "code",
   "execution_count": 99,
   "id": "d4aa0f44-2609-40aa-88fd-ab3d274ee5be",
   "metadata": {},
   "outputs": [
    {
     "data": {
      "image/png": "[encoded data removed]",
      "text/plain": [
       "<Figure size 640x480 with 1 Axes>"
      ]
     },
     "metadata": {},
     "output_type": "display_data"
    }
   ],
   "source": [
    "plt.scatter(first_component, second_component, s= 60)\n",
    "plt.show()"
   ]
  },
  {
   "cell_type": "code",
   "execution_count": 100,
   "id": "162fa366-c111-4add-8250-c1b8f5c3fd36",
   "metadata": {},
   "outputs": [
    {
     "data": {
      "image/png": "[encoded data removed]",
      "text/plain": [
       "<Figure size 640x480 with 1 Axes>"
      ]
     },
     "metadata": {},
     "output_type": "display_data"
    }
   ],
   "source": [
    "plt.scatter(first_component, second_component, s= 60, c = df['fruit_label'], alpha = 0.8)\n",
    "plt.xlabel('first_component')\n",
    "plt.ylabel('second_component')\n",
    "plt.title('PCA dimensionality reduction on fruit dataset')\n",
    "plt.show()"
   ]
  },
  {
   "cell_type": "markdown",
   "id": "4d979eb6-dbbf-4cf4-8b74-faf6a4ad1403",
   "metadata": {},
   "source": [
    "## Multi dimensional scaling (MDS)"
   ]
  },
  {
   "cell_type": "code",
   "execution_count": 101,
   "id": "16eb6abb-23e9-4e25-9a06-a603cb3eb28a",
   "metadata": {},
   "outputs": [],
   "source": [
    "from sklearn.manifold import MDS"
   ]
  },
  {
   "cell_type": "code",
   "execution_count": 102,
   "id": "e7c9d99c-46ee-4357-800c-90f13d6f8b92",
   "metadata": {},
   "outputs": [],
   "source": [
    "# initaialze mds\n",
    "mds = MDS(n_components= 2, random_state= 20)\n",
    "X_mds = mds.fit_transform(x)"
   ]
  },
  {
   "cell_type": "code",
   "execution_count": 103,
   "id": "a363e030-277a-4f15-a6c1-3f7a64743ad1",
   "metadata": {},
   "outputs": [
    {
     "data": {
      "text/plain": [
       "array([[-0.53032609,  3.31235688],\n",
       "       [-0.9459877 ,  2.53347307],\n",
       "       [-1.05470195,  2.01021656],\n",
       "       [-1.69295817, -2.40827472],\n",
       "       [-1.9565946 , -2.41254418],\n",
       "       [-2.37055973, -2.44962708],\n",
       "       [-1.97961511, -2.76384472],\n",
       "       [-2.15766049, -2.95121921],\n",
       "       [ 1.36947273, -1.59899567],\n",
       "       [ 1.03295884, -1.4501085 ],\n",
       "       [ 1.03014667, -1.99834724],\n",
       "       [ 1.23036941, -1.69097459],\n",
       "       [ 0.51941898, -1.54289779],\n",
       "       [-0.25276614,  0.69730123],\n",
       "       [-0.3814524 ,  0.92306478],\n",
       "       [-0.37308733,  1.01417192],\n",
       "       [-0.47566907,  1.21211176],\n",
       "       [ 0.09920079,  0.44115666],\n",
       "       [ 0.64017938, -0.81763406],\n",
       "       [ 0.69861356, -1.0216883 ],\n",
       "       [ 0.90513006, -0.99382224],\n",
       "       [ 0.61828552, -0.88661038],\n",
       "       [ 0.53363083, -1.41546189],\n",
       "       [ 1.31855131, -0.98141475],\n",
       "       [ 3.73267529,  2.06006434],\n",
       "       [ 4.04130304,  2.12569981],\n",
       "       [ 4.33204021,  2.40873645],\n",
       "       [ 1.15743505,  0.75987474],\n",
       "       [-0.86740776, -0.12615035],\n",
       "       [ 0.1128229 , -0.68440119],\n",
       "       [ 0.0784662 , -0.41055138],\n",
       "       [ 1.45410433, -0.10704911],\n",
       "       [ 0.19977301, -0.65425412],\n",
       "       [ 0.51123473,  0.55191393],\n",
       "       [ 0.15658259,  0.21448078],\n",
       "       [-0.18705168,  0.08577404],\n",
       "       [-0.07584338, -0.07700429],\n",
       "       [ 0.1878548 , -0.4443131 ],\n",
       "       [ 0.0877505 , -0.08313551],\n",
       "       [-0.53831214, -0.22044802],\n",
       "       [-0.01702393, -0.33111434],\n",
       "       [ 0.82222454,  0.06623357],\n",
       "       [ 0.27369316, -0.81915478],\n",
       "       [ 0.72894523,  1.94420046],\n",
       "       [ 1.02883271,  1.90368226],\n",
       "       [ 0.45948945,  1.14670333],\n",
       "       [ 1.0997139 ,  1.84155597],\n",
       "       [ 0.78788661,  1.4222912 ],\n",
       "       [ 0.65024981,  1.62314608],\n",
       "       [-1.87036773,  0.3317329 ],\n",
       "       [-1.63486788,  0.2225755 ],\n",
       "       [-1.68212594, -0.30292543],\n",
       "       [-1.79424563, -0.03576651],\n",
       "       [-1.61351164, -0.00525895],\n",
       "       [-1.68519303,  0.35314599],\n",
       "       [-1.3798195 , -0.12716507],\n",
       "       [-1.76928319, -0.08975628],\n",
       "       [-0.92075885,  0.46227859],\n",
       "       [-1.69184509,  0.23397099]])"
      ]
     },
     "execution_count": 103,
     "metadata": {},
     "output_type": "execute_result"
    }
   ],
   "source": [
    "X_mds "
   ]
  },
  {
   "cell_type": "code",
   "execution_count": 104,
   "id": "9daf9da2-33a6-4055-bb7e-1ead254dd96a",
   "metadata": {},
   "outputs": [
    {
     "data": {
      "image/png": "[encoded data removed]",
      "text/plain": [
       "<Figure size 640x480 with 1 Axes>"
      ]
     },
     "metadata": {},
     "output_type": "display_data"
    }
   ],
   "source": [
    "plt.scatter(X_mds[:, 0], X_mds[:, 1], s=65,c= df['fruit_label'], alpha= 0.8)\n",
    "plt.xlabel('first_component')\n",
    "plt.xlabel('second_component')\n",
    "plt.title('MDS dimensionality reduction on fruit dataset')\n",
    "plt.show()"
   ]
  },
  {
   "cell_type": "markdown",
   "id": "dd3b2889-c070-4075-8ba9-26a93f23d956",
   "metadata": {},
   "source": [
    "## Kmeans Clustering"
   ]
  },
  {
   "cell_type": "code",
   "execution_count": 105,
   "id": "348d1544-8635-4a65-ab87-90ad85f8893f",
   "metadata": {},
   "outputs": [],
   "source": [
    "from sklearn.cluster import KMeans"
   ]
  },
  {
   "cell_type": "code",
   "execution_count": 106,
   "id": "04afe387-becc-4bf9-9602-9c95046e504d",
   "metadata": {},
   "outputs": [
    {
     "data": {
      "text/html": [
       "<style>#sk-container-id-3 {\n",
       "  /* Definition of color scheme common for light and dark mode */\n",
       "  --sklearn-color-text: black;\n",
       "  --sklearn-color-line: gray;\n",
       "  /* Definition of color scheme for unfitted estimators */\n",
       "  --sklearn-color-unfitted-level-0: #fff5e6;\n",
       "  --sklearn-color-unfitted-level-1: #f6e4d2;\n",
       "  --sklearn-color-unfitted-level-2: #ffe0b3;\n",
       "  --sklearn-color-unfitted-level-3: chocolate;\n",
       "  /* Definition of color scheme for fitted estimators */\n",
       "  --sklearn-color-fitted-level-0: #f0f8ff;\n",
       "  --sklearn-color-fitted-level-1: #d4ebff;\n",
       "  --sklearn-color-fitted-level-2: #b3dbfd;\n",
       "  --sklearn-color-fitted-level-3: cornflowerblue;\n",
       "\n",
       "  /* Specific color for light theme */\n",
       "  --sklearn-color-text-on-default-background: var(--sg-text-color, var(--theme-code-foreground, var(--jp-content-font-color1, black)));\n",
       "  --sklearn-color-background: var(--sg-background-color, var(--theme-background, var(--jp-layout-color0, white)));\n",
       "  --sklearn-color-border-box: var(--sg-text-color, var(--theme-code-foreground, var(--jp-content-font-color1, black)));\n",
       "  --sklearn-color-icon: #696969;\n",
       "\n",
       "  @media (prefers-color-scheme: dark) {\n",
       "    /* Redefinition of color scheme for dark theme */\n",
       "    --sklearn-color-text-on-default-background: var(--sg-text-color, var(--theme-code-foreground, var(--jp-content-font-color1, white)));\n",
       "    --sklearn-color-background: var(--sg-background-color, var(--theme-background, var(--jp-layout-color0, #111)));\n",
       "    --sklearn-color-border-box: var(--sg-text-color, var(--theme-code-foreground, var(--jp-content-font-color1, white)));\n",
       "    --sklearn-color-icon: #878787;\n",
       "  }\n",
       "}\n",
       "\n",
       "#sk-container-id-3 {\n",
       "  color: var(--sklearn-color-text);\n",
       "}\n",
       "\n",
       "#sk-container-id-3 pre {\n",
       "  padding: 0;\n",
       "}\n",
       "\n",
       "#sk-container-id-3 input.sk-hidden--visually {\n",
       "  border: 0;\n",
       "  clip: rect(1px 1px 1px 1px);\n",
       "  clip: rect(1px, 1px, 1px, 1px);\n",
       "  height: 1px;\n",
       "  margin: -1px;\n",
       "  overflow: hidden;\n",
       "  padding: 0;\n",
       "  position: absolute;\n",
       "  width: 1px;\n",
       "}\n",
       "\n",
       "#sk-container-id-3 div.sk-dashed-wrapped {\n",
       "  border: 1px dashed var(--sklearn-color-line);\n",
       "  margin: 0 0.4em 0.5em 0.4em;\n",
       "  box-sizing: border-box;\n",
       "  padding-bottom: 0.4em;\n",
       "  background-color: var(--sklearn-color-background);\n",
       "}\n",
       "\n",
       "#sk-container-id-3 div.sk-container {\n",
       "  /* jupyter's `normalize.less` sets `[hidden] { display: none; }`\n",
       "     but bootstrap.min.css set `[hidden] { display: none !important; }`\n",
       "     so we also need the `!important` here to be able to override the\n",
       "     default hidden behavior on the sphinx rendered scikit-learn.org.\n",
       "     See: https://github.com/scikit-learn/scikit-learn/issues/21755 */\n",
       "  display: inline-block !important;\n",
       "  position: relative;\n",
       "}\n",
       "\n",
       "#sk-container-id-3 div.sk-text-repr-fallback {\n",
       "  display: none;\n",
       "}\n",
       "\n",
       "div.sk-parallel-item,\n",
       "div.sk-serial,\n",
       "div.sk-item {\n",
       "  /* draw centered vertical line to link estimators */\n",
       "  background-image: linear-gradient(var(--sklearn-color-text-on-default-background), var(--sklearn-color-text-on-default-background));\n",
       "  background-size: 2px 100%;\n",
       "  background-repeat: no-repeat;\n",
       "  background-position: center center;\n",
       "}\n",
       "\n",
       "/* Parallel-specific style estimator block */\n",
       "\n",
       "#sk-container-id-3 div.sk-parallel-item::after {\n",
       "  content: \"\";\n",
       "  width: 100%;\n",
       "  border-bottom: 2px solid var(--sklearn-color-text-on-default-background);\n",
       "  flex-grow: 1;\n",
       "}\n",
       "\n",
       "#sk-container-id-3 div.sk-parallel {\n",
       "  display: flex;\n",
       "  align-items: stretch;\n",
       "  justify-content: center;\n",
       "  background-color: var(--sklearn-color-background);\n",
       "  position: relative;\n",
       "}\n",
       "\n",
       "#sk-container-id-3 div.sk-parallel-item {\n",
       "  display: flex;\n",
       "  flex-direction: column;\n",
       "}\n",
       "\n",
       "#sk-container-id-3 div.sk-parallel-item:first-child::after {\n",
       "  align-self: flex-end;\n",
       "  width: 50%;\n",
       "}\n",
       "\n",
       "#sk-container-id-3 div.sk-parallel-item:last-child::after {\n",
       "  align-self: flex-start;\n",
       "  width: 50%;\n",
       "}\n",
       "\n",
       "#sk-container-id-3 div.sk-parallel-item:only-child::after {\n",
       "  width: 0;\n",
       "}\n",
       "\n",
       "/* Serial-specific style estimator block */\n",
       "\n",
       "#sk-container-id-3 div.sk-serial {\n",
       "  display: flex;\n",
       "  flex-direction: column;\n",
       "  align-items: center;\n",
       "  background-color: var(--sklearn-color-background);\n",
       "  padding-right: 1em;\n",
       "  padding-left: 1em;\n",
       "}\n",
       "\n",
       "\n",
       "/* Toggleable style: style used for estimator/Pipeline/ColumnTransformer box that is\n",
       "clickable and can be expanded/collapsed.\n",
       "- Pipeline and ColumnTransformer use this feature and define the default style\n",
       "- Estimators will overwrite some part of the style using the `sk-estimator` class\n",
       "*/\n",
       "\n",
       "/* Pipeline and ColumnTransformer style (default) */\n",
       "\n",
       "#sk-container-id-3 div.sk-toggleable {\n",
       "  /* Default theme specific background. It is overwritten whether we have a\n",
       "  specific estimator or a Pipeline/ColumnTransformer */\n",
       "  background-color: var(--sklearn-color-background);\n",
       "}\n",
       "\n",
       "/* Toggleable label */\n",
       "#sk-container-id-3 label.sk-toggleable__label {\n",
       "  cursor: pointer;\n",
       "  display: block;\n",
       "  width: 100%;\n",
       "  margin-bottom: 0;\n",
       "  padding: 0.5em;\n",
       "  box-sizing: border-box;\n",
       "  text-align: center;\n",
       "}\n",
       "\n",
       "#sk-container-id-3 label.sk-toggleable__label-arrow:before {\n",
       "  /* Arrow on the left of the label */\n",
       "  content: \"▸\";\n",
       "  float: left;\n",
       "  margin-right: 0.25em;\n",
       "  color: var(--sklearn-color-icon);\n",
       "}\n",
       "\n",
       "#sk-container-id-3 label.sk-toggleable__label-arrow:hover:before {\n",
       "  color: var(--sklearn-color-text);\n",
       "}\n",
       "\n",
       "/* Toggleable content - dropdown */\n",
       "\n",
       "#sk-container-id-3 div.sk-toggleable__content {\n",
       "  max-height: 0;\n",
       "  max-width: 0;\n",
       "  overflow: hidden;\n",
       "  text-align: left;\n",
       "  /* unfitted */\n",
       "  background-color: var(--sklearn-color-unfitted-level-0);\n",
       "}\n",
       "\n",
       "#sk-container-id-3 div.sk-toggleable__content.fitted {\n",
       "  /* fitted */\n",
       "  background-color: var(--sklearn-color-fitted-level-0);\n",
       "}\n",
       "\n",
       "#sk-container-id-3 div.sk-toggleable__content pre {\n",
       "  margin: 0.2em;\n",
       "  border-radius: 0.25em;\n",
       "  color: var(--sklearn-color-text);\n",
       "  /* unfitted */\n",
       "  background-color: var(--sklearn-color-unfitted-level-0);\n",
       "}\n",
       "\n",
       "#sk-container-id-3 div.sk-toggleable__content.fitted pre {\n",
       "  /* unfitted */\n",
       "  background-color: var(--sklearn-color-fitted-level-0);\n",
       "}\n",
       "\n",
       "#sk-container-id-3 input.sk-toggleable__control:checked~div.sk-toggleable__content {\n",
       "  /* Expand drop-down */\n",
       "  max-height: 200px;\n",
       "  max-width: 100%;\n",
       "  overflow: auto;\n",
       "}\n",
       "\n",
       "#sk-container-id-3 input.sk-toggleable__control:checked~label.sk-toggleable__label-arrow:before {\n",
       "  content: \"▾\";\n",
       "}\n",
       "\n",
       "/* Pipeline/ColumnTransformer-specific style */\n",
       "\n",
       "#sk-container-id-3 div.sk-label input.sk-toggleable__control:checked~label.sk-toggleable__label {\n",
       "  color: var(--sklearn-color-text);\n",
       "  background-color: var(--sklearn-color-unfitted-level-2);\n",
       "}\n",
       "\n",
       "#sk-container-id-3 div.sk-label.fitted input.sk-toggleable__control:checked~label.sk-toggleable__label {\n",
       "  background-color: var(--sklearn-color-fitted-level-2);\n",
       "}\n",
       "\n",
       "/* Estimator-specific style */\n",
       "\n",
       "/* Colorize estimator box */\n",
       "#sk-container-id-3 div.sk-estimator input.sk-toggleable__control:checked~label.sk-toggleable__label {\n",
       "  /* unfitted */\n",
       "  background-color: var(--sklearn-color-unfitted-level-2);\n",
       "}\n",
       "\n",
       "#sk-container-id-3 div.sk-estimator.fitted input.sk-toggleable__control:checked~label.sk-toggleable__label {\n",
       "  /* fitted */\n",
       "  background-color: var(--sklearn-color-fitted-level-2);\n",
       "}\n",
       "\n",
       "#sk-container-id-3 div.sk-label label.sk-toggleable__label,\n",
       "#sk-container-id-3 div.sk-label label {\n",
       "  /* The background is the default theme color */\n",
       "  color: var(--sklearn-color-text-on-default-background);\n",
       "}\n",
       "\n",
       "/* On hover, darken the color of the background */\n",
       "#sk-container-id-3 div.sk-label:hover label.sk-toggleable__label {\n",
       "  color: var(--sklearn-color-text);\n",
       "  background-color: var(--sklearn-color-unfitted-level-2);\n",
       "}\n",
       "\n",
       "/* Label box, darken color on hover, fitted */\n",
       "#sk-container-id-3 div.sk-label.fitted:hover label.sk-toggleable__label.fitted {\n",
       "  color: var(--sklearn-color-text);\n",
       "  background-color: var(--sklearn-color-fitted-level-2);\n",
       "}\n",
       "\n",
       "/* Estimator label */\n",
       "\n",
       "#sk-container-id-3 div.sk-label label {\n",
       "  font-family: monospace;\n",
       "  font-weight: bold;\n",
       "  display: inline-block;\n",
       "  line-height: 1.2em;\n",
       "}\n",
       "\n",
       "#sk-container-id-3 div.sk-label-container {\n",
       "  text-align: center;\n",
       "}\n",
       "\n",
       "/* Estimator-specific */\n",
       "#sk-container-id-3 div.sk-estimator {\n",
       "  font-family: monospace;\n",
       "  border: 1px dotted var(--sklearn-color-border-box);\n",
       "  border-radius: 0.25em;\n",
       "  box-sizing: border-box;\n",
       "  margin-bottom: 0.5em;\n",
       "  /* unfitted */\n",
       "  background-color: var(--sklearn-color-unfitted-level-0);\n",
       "}\n",
       "\n",
       "#sk-container-id-3 div.sk-estimator.fitted {\n",
       "  /* fitted */\n",
       "  background-color: var(--sklearn-color-fitted-level-0);\n",
       "}\n",
       "\n",
       "/* on hover */\n",
       "#sk-container-id-3 div.sk-estimator:hover {\n",
       "  /* unfitted */\n",
       "  background-color: var(--sklearn-color-unfitted-level-2);\n",
       "}\n",
       "\n",
       "#sk-container-id-3 div.sk-estimator.fitted:hover {\n",
       "  /* fitted */\n",
       "  background-color: var(--sklearn-color-fitted-level-2);\n",
       "}\n",
       "\n",
       "/* Specification for estimator info (e.g. \"i\" and \"?\") */\n",
       "\n",
       "/* Common style for \"i\" and \"?\" */\n",
       "\n",
       ".sk-estimator-doc-link,\n",
       "a:link.sk-estimator-doc-link,\n",
       "a:visited.sk-estimator-doc-link {\n",
       "  float: right;\n",
       "  font-size: smaller;\n",
       "  line-height: 1em;\n",
       "  font-family: monospace;\n",
       "  background-color: var(--sklearn-color-background);\n",
       "  border-radius: 1em;\n",
       "  height: 1em;\n",
       "  width: 1em;\n",
       "  text-decoration: none !important;\n",
       "  margin-left: 1ex;\n",
       "  /* unfitted */\n",
       "  border: var(--sklearn-color-unfitted-level-1) 1pt solid;\n",
       "  color: var(--sklearn-color-unfitted-level-1);\n",
       "}\n",
       "\n",
       ".sk-estimator-doc-link.fitted,\n",
       "a:link.sk-estimator-doc-link.fitted,\n",
       "a:visited.sk-estimator-doc-link.fitted {\n",
       "  /* fitted */\n",
       "  border: var(--sklearn-color-fitted-level-1) 1pt solid;\n",
       "  color: var(--sklearn-color-fitted-level-1);\n",
       "}\n",
       "\n",
       "/* On hover */\n",
       "div.sk-estimator:hover .sk-estimator-doc-link:hover,\n",
       ".sk-estimator-doc-link:hover,\n",
       "div.sk-label-container:hover .sk-estimator-doc-link:hover,\n",
       ".sk-estimator-doc-link:hover {\n",
       "  /* unfitted */\n",
       "  background-color: var(--sklearn-color-unfitted-level-3);\n",
       "  color: var(--sklearn-color-background);\n",
       "  text-decoration: none;\n",
       "}\n",
       "\n",
       "div.sk-estimator.fitted:hover .sk-estimator-doc-link.fitted:hover,\n",
       ".sk-estimator-doc-link.fitted:hover,\n",
       "div.sk-label-container:hover .sk-estimator-doc-link.fitted:hover,\n",
       ".sk-estimator-doc-link.fitted:hover {\n",
       "  /* fitted */\n",
       "  background-color: var(--sklearn-color-fitted-level-3);\n",
       "  color: var(--sklearn-color-background);\n",
       "  text-decoration: none;\n",
       "}\n",
       "\n",
       "/* Span, style for the box shown on hovering the info icon */\n",
       ".sk-estimator-doc-link span {\n",
       "  display: none;\n",
       "  z-index: 9999;\n",
       "  position: relative;\n",
       "  font-weight: normal;\n",
       "  right: .2ex;\n",
       "  padding: .5ex;\n",
       "  margin: .5ex;\n",
       "  width: min-content;\n",
       "  min-width: 20ex;\n",
       "  max-width: 50ex;\n",
       "  color: var(--sklearn-color-text);\n",
       "  box-shadow: 2pt 2pt 4pt #999;\n",
       "  /* unfitted */\n",
       "  background: var(--sklearn-color-unfitted-level-0);\n",
       "  border: .5pt solid var(--sklearn-color-unfitted-level-3);\n",
       "}\n",
       "\n",
       ".sk-estimator-doc-link.fitted span {\n",
       "  /* fitted */\n",
       "  background: var(--sklearn-color-fitted-level-0);\n",
       "  border: var(--sklearn-color-fitted-level-3);\n",
       "}\n",
       "\n",
       ".sk-estimator-doc-link:hover span {\n",
       "  display: block;\n",
       "}\n",
       "\n",
       "/* \"?\"-specific style due to the `<a>` HTML tag */\n",
       "\n",
       "#sk-container-id-3 a.estimator_doc_link {\n",
       "  float: right;\n",
       "  font-size: 1rem;\n",
       "  line-height: 1em;\n",
       "  font-family: monospace;\n",
       "  background-color: var(--sklearn-color-background);\n",
       "  border-radius: 1rem;\n",
       "  height: 1rem;\n",
       "  width: 1rem;\n",
       "  text-decoration: none;\n",
       "  /* unfitted */\n",
       "  color: var(--sklearn-color-unfitted-level-1);\n",
       "  border: var(--sklearn-color-unfitted-level-1) 1pt solid;\n",
       "}\n",
       "\n",
       "#sk-container-id-3 a.estimator_doc_link.fitted {\n",
       "  /* fitted */\n",
       "  border: var(--sklearn-color-fitted-level-1) 1pt solid;\n",
       "  color: var(--sklearn-color-fitted-level-1);\n",
       "}\n",
       "\n",
       "/* On hover */\n",
       "#sk-container-id-3 a.estimator_doc_link:hover {\n",
       "  /* unfitted */\n",
       "  background-color: var(--sklearn-color-unfitted-level-3);\n",
       "  color: var(--sklearn-color-background);\n",
       "  text-decoration: none;\n",
       "}\n",
       "\n",
       "#sk-container-id-3 a.estimator_doc_link.fitted:hover {\n",
       "  /* fitted */\n",
       "  background-color: var(--sklearn-color-fitted-level-3);\n",
       "}\n",
       "</style><div id=\"sk-container-id-3\" class=\"sk-top-container\"><div class=\"sk-text-repr-fallback\"><pre>KMeans(n_clusters=3, random_state=12)</pre><b>In a Jupyter environment, please rerun this cell to show the HTML representation or trust the notebook. <br />On GitHub, the HTML representation is unable to render, please try loading this page with nbviewer.org.</b></div><div class=\"sk-container\" hidden><div class=\"sk-item\"><div class=\"sk-estimator fitted sk-toggleable\"><input class=\"sk-toggleable__control sk-hidden--visually\" id=\"sk-estimator-id-3\" type=\"checkbox\" checked><label for=\"sk-estimator-id-3\" class=\"sk-toggleable__label fitted sk-toggleable__label-arrow fitted\">&nbsp;&nbsp;KMeans<a class=\"sk-estimator-doc-link fitted\" rel=\"noreferrer\" target=\"_blank\" href=\"https://scikit-learn.org/1.5/modules/generated/sklearn.cluster.KMeans.html\">?<span>Documentation for KMeans</span></a><span class=\"sk-estimator-doc-link fitted\">i<span>Fitted</span></span></label><div class=\"sk-toggleable__content fitted\"><pre>KMeans(n_clusters=3, random_state=12)</pre></div> </div></div></div></div>"
      ],
      "text/plain": [
       "KMeans(n_clusters=3, random_state=12)"
      ]
     },
     "execution_count": 106,
     "metadata": {},
     "output_type": "execute_result"
    }
   ],
   "source": [
    "# initialze kmeans\n",
    "kmeans = KMeans(n_clusters = 3, random_state= 12)\n",
    "kmeans.fit(x)"
   ]
  },
  {
   "cell_type": "code",
   "execution_count": 107,
   "id": "1850fd4a-0820-4514-b211-99c3b755432f",
   "metadata": {},
   "outputs": [
    {
     "data": {
      "text/plain": [
       "array([1, 1, 1, 2, 2, 2, 2, 2, 0, 0, 0, 0, 0, 1, 1, 1, 1, 1, 0, 0, 0, 0,\n",
       "       0, 0, 1, 1, 1, 1, 2, 0, 0, 0, 0, 1, 0, 0, 0, 0, 0, 2, 0, 0, 0, 1,\n",
       "       1, 1, 1, 1, 1, 2, 2, 2, 2, 2, 2, 2, 2, 2, 2], dtype=int32)"
      ]
     },
     "execution_count": 107,
     "metadata": {},
     "output_type": "execute_result"
    }
   ],
   "source": [
    "kmeans.labels_"
   ]
  },
  {
   "cell_type": "code",
   "execution_count": 108,
   "id": "ee145ee0-13f9-45a9-86fe-7448ce4b0f92",
   "metadata": {},
   "outputs": [
    {
     "data": {
      "image/png": "[encoded data removed]",
      "text/plain": [
       "<Figure size 640x480 with 1 Axes>"
      ]
     },
     "metadata": {},
     "output_type": "display_data"
    }
   ],
   "source": [
    "plt.scatter(x_pca[:, 0], x_pca[:, 1], s=65,c= kmeans.labels_, alpha= 0.8)\n",
    "plt.title('kmeans(n_clusters = 3)')\n",
    "plt.show()"
   ]
  },
  {
   "cell_type": "markdown",
   "id": "f96f2249-68d7-4dcb-8d8c-610397dc5284",
   "metadata": {},
   "source": [
    "## Elbow chart"
   ]
  },
  {
   "cell_type": "code",
   "execution_count": 109,
   "id": "f8dc6040-a98e-437c-ad9e-887885b5cacf",
   "metadata": {},
   "outputs": [],
   "source": [
    "wscc = []"
   ]
  },
  {
   "cell_type": "code",
   "execution_count": 110,
   "id": "ad391ae1-2cc7-481b-ace2-a10734e659f1",
   "metadata": {},
   "outputs": [],
   "source": [
    "for i in range(1, 11):\n",
    "    kmeans = KMeans(n_clusters = i, random_state= 12)\n",
    "    kmeans.fit(x)\n",
    "    wscc.append(kmeans.inertia_)"
   ]
  },
  {
   "cell_type": "code",
   "execution_count": 111,
   "id": "0b995ec6-b65d-40a3-93ab-1dbe3203a58d",
   "metadata": {},
   "outputs": [
    {
     "data": {
      "image/png": "[encoded data removed]",
      "text/plain": [
       "<Figure size 640x480 with 1 Axes>"
      ]
     },
     "metadata": {},
     "output_type": "display_data"
    }
   ],
   "source": [
    "plt.plot(range(1, 11), wscc)\n",
    "plt.title('Elbow chart')\n",
    "plt.show()"
   ]
  },
  {
   "cell_type": "markdown",
   "id": "9ca964b9-8259-4b2f-8ac3-5d2998977c2e",
   "metadata": {},
   "source": [
    "## Model Evaluation using Sihouette score"
   ]
  },
  {
   "cell_type": "code",
   "execution_count": 113,
   "id": "03e9f71b-c7c5-47b3-acd9-2cf5b07bc610",
   "metadata": {},
   "outputs": [],
   "source": [
    "from sklearn.metrics import silhouette_score"
   ]
  },
  {
   "cell_type": "code",
   "execution_count": 115,
   "id": "c6e3c907-d64d-4737-a206-ab827a5cada0",
   "metadata": {},
   "outputs": [
    {
     "data": {
      "text/plain": [
       "np.float64(0.4231926612214733)"
      ]
     },
     "execution_count": 115,
     "metadata": {},
     "output_type": "execute_result"
    }
   ],
   "source": [
    "silhouette_score(x, kmeans.fit_predict(x))"
   ]
  },
  {
   "cell_type": "code",
   "execution_count": null,
   "id": "709c5339-d78c-4153-bb44-fcaab06c3986",
   "metadata": {},
   "outputs": [],
   "source": []
  }
 ],
 "metadata": {
  "kernelspec": {
   "display_name": "Python 3 (ipykernel)",
   "language": "python",
   "name": "python3"
  },
  "language_info": {
   "codemirror_mode": {
    "name": "ipython",
    "version": 3
   },
   "file_extension": ".py",
   "mimetype": "text/x-python",
   "name": "python",
   "nbconvert_exporter": "python",
   "pygments_lexer": "ipython3",
   "version": "3.12.4"
  }
 },
 "nbformat": 4,
 "nbformat_minor": 5
}
